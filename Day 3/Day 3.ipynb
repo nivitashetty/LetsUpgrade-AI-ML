{
 "cells": [
  {
   "cell_type": "markdown",
   "metadata": {},
   "source": [
    "# DAY 3 - LetsUpgrade_AI-ML-DL_July2020"
   ]
  },
  {
   "cell_type": "markdown",
   "metadata": {},
   "source": [
    "__Question 1:\n",
    "Write a program to subtract two complex numbers in Python.__"
   ]
  },
  {
   "cell_type": "code",
   "execution_count": 1,
   "metadata": {},
   "outputs": [
    {
     "name": "stdout",
     "output_type": "stream",
     "text": [
      "Enter first complex number(in form of a+bj): 2+3j\n",
      "Enter second complex number(in form of a+bj): 5-2j\n",
      "Subtraction =  (-3+5j)\n"
     ]
    }
   ],
   "source": [
    "x= complex(input('Enter first complex number(in form of a+bj): '))\n",
    "y= complex(input('Enter second complex number(in form of a+bj): '))\n",
    "Subtraction = x-y\n",
    "print('Subtraction = ', Subtraction)"
   ]
  },
  {
   "cell_type": "markdown",
   "metadata": {},
   "source": [
    "__Question 2:\n",
    "Write a program to find the fourth root of a number.__"
   ]
  },
  {
   "cell_type": "code",
   "execution_count": 2,
   "metadata": {},
   "outputs": [
    {
     "name": "stdout",
     "output_type": "stream",
     "text": [
      "Enter number: 196\n",
      " The fourth root of your number is = 49.0\n"
     ]
    }
   ],
   "source": [
    "x=int(input('Enter number: '))\n",
    "y= x**1/4\n",
    "print(\" The fourth root of your number is =\",y)"
   ]
  },
  {
   "cell_type": "markdown",
   "metadata": {},
   "source": [
    "__Question 3:\n",
    "Write a program to swap two numbers in Python with the help of a temporary variable.__"
   ]
  },
  {
   "cell_type": "code",
   "execution_count": 3,
   "metadata": {},
   "outputs": [
    {
     "name": "stdout",
     "output_type": "stream",
     "text": [
      "Enter value for x: 60\n",
      "Enter value of y: 423\n",
      "x= 423 \n",
      "y= 60\n"
     ]
    }
   ],
   "source": [
    "x=int(input('Enter value for x: '))\n",
    "y=int(input('Enter value of y: '))\n",
    "a=x\n",
    "x=y\n",
    "y=a\n",
    "print(\"x=\", x , \"\\ny=\",y)"
   ]
  },
  {
   "cell_type": "markdown",
   "metadata": {},
   "source": [
    "__Question 4:\n",
    "Write a program to swap two numbers in Python without using a temporary variable.__"
   ]
  },
  {
   "cell_type": "code",
   "execution_count": 4,
   "metadata": {},
   "outputs": [
    {
     "name": "stdout",
     "output_type": "stream",
     "text": [
      "Enter value for x: 23\n",
      "Enter value of y: 45\n",
      "x= 45 \n",
      "y= 23\n"
     ]
    }
   ],
   "source": [
    "x=int(input('Enter value for x: '))\n",
    "y=int(input('Enter value of y: '))\n",
    "x,y=y,x\n",
    "print(\"x=\", x , \"\\ny=\",y)"
   ]
  },
  {
   "cell_type": "markdown",
   "metadata": {},
   "source": [
    "__Question 5:\n",
    "Write a program to convert fahrenheit to kelvin and celsius both.__"
   ]
  },
  {
   "cell_type": "code",
   "execution_count": 6,
   "metadata": {},
   "outputs": [
    {
     "name": "stdout",
     "output_type": "stream",
     "text": [
      "Enter value for Fahrenheit:32\n",
      "Value of Kelvin is:  273.15 °K \n",
      "Value of Celsius is:  0.0 °C\n"
     ]
    }
   ],
   "source": [
    "F=int(input(\"Enter value for Fahrenheit:\"))\n",
    "K=(F-32)*5/9+273.15\n",
    "C=(F-32)* 5/9\n",
    "print(\"Value of Kelvin is: \",K,\"°K\",\"\\nValue of Celsius is: \",C,\"°C\")"
   ]
  },
  {
   "cell_type": "markdown",
   "metadata": {},
   "source": [
    "__Question 6:\n",
    "Write a program to demonstrate all the available data types in Python. Hint: Use type() function.__"
   ]
  },
  {
   "cell_type": "code",
   "execution_count": 7,
   "metadata": {},
   "outputs": [
    {
     "name": "stdout",
     "output_type": "stream",
     "text": [
      "5 is of type <class 'int'>\n",
      "2.5 is of type <class 'float'>\n",
      "(1+2j) is complex number? True\n",
      "[1, 2, 3] is of type <class 'list'>\n",
      "(1, 2, 3) is of type <class 'tuple'>\n",
      "{1, 2, 3} is of type <class 'set'>\n",
      "rocks is of type <class 'str'>\n",
      "{'1': 'one', '2': 'two', '3': 'three'} is of type <class 'dict'>\n",
      "range(0, 10) is of type <class 'range'>\n"
     ]
    }
   ],
   "source": [
    "a=5\n",
    "print(a, \"is of type\", type(a))\n",
    "b = 2.5\n",
    "print(b, \"is of type\", type(b))\n",
    "c = 1+2j\n",
    "print(c, \"is complex number?\", isinstance(1+2j,complex))\n",
    "d=[1,2,3]\n",
    "print(d, \"is of type\", type(d))\n",
    "e=(1,2,3)\n",
    "print(e, \"is of type\", type(e))\n",
    "f={1,2,3}\n",
    "print(f, \"is of type\", type(f))\n",
    "g=\"rocks\"\n",
    "print(g, \"is of type\", type(g))\n",
    "h={'1':'one','2':'two','3':'three'}\n",
    "print(h, \"is of type\", type(h))\n",
    "i=range(10)\n",
    "print(i, \"is of type\", type(i))"
   ]
  },
  {
   "cell_type": "markdown",
   "metadata": {},
   "source": [
    "__Question 7:\n",
    "Create a Markdown cell in jupyter and list the steps discussed in the session by Dr. Darshan\n",
    "Ingle sir to create Github profile and upload Githubs Assignment link.__"
   ]
  },
  {
   "cell_type": "markdown",
   "metadata": {},
   "source": [
    "This is a Markdown Cell"
   ]
  },
  {
   "cell_type": "markdown",
   "metadata": {},
   "source": [
    "###### Steps to create Github profile and upload Githubs Assignment link."
   ]
  },
  {
   "cell_type": "raw",
   "metadata": {},
   "source": [
    "1: Open GitHub: https://github.com/github-login\n",
    "2: Create Profile by Signing up.\n",
    "3: Once logged in, click on \" New\" button to create a new Repository.\n",
    "4: Create a new Repository with name \"LetsUpgrade AI-ML\" and Keep that as public.\n",
    "5: Click on Create Repository button and Repository will be created.\n",
    "6: Once Repository created, click on the upload exsiting files and browse from the local or drag and drop.\n",
    "7: Click on commit changes.\n",
    "8: Copy the URL of assignment file and verify pasting the link in incognito mode. It should be visible and accessible.\n",
    "9: Copy the URL of the Folder of that day and paste in the Assignment Submission Form (Google Form) at link https://bit.ly/aimlassignment"
   ]
  },
  {
   "cell_type": "markdown",
   "metadata": {},
   "source": [
    "# END"
   ]
  }
 ],
 "metadata": {
  "kernelspec": {
   "display_name": "Python 3",
   "language": "python",
   "name": "python3"
  },
  "language_info": {
   "codemirror_mode": {
    "name": "ipython",
    "version": 3
   },
   "file_extension": ".py",
   "mimetype": "text/x-python",
   "name": "python",
   "nbconvert_exporter": "python",
   "pygments_lexer": "ipython3",
   "version": "3.7.6"
  }
 },
 "nbformat": 4,
 "nbformat_minor": 4
}
