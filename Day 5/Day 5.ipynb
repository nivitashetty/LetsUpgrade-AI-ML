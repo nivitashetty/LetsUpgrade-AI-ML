{
 "cells": [
  {
   "cell_type": "markdown",
   "metadata": {},
   "source": [
    "# DAY 5 - LetsUpgrade_AI-ML-DL_July2020"
   ]
  },
  {
   "cell_type": "markdown",
   "metadata": {},
   "source": [
    "__Question 1 :\n",
    "Write a Python program to find the first 20 non-even prime natural numbers.__"
   ]
  },
  {
   "cell_type": "code",
   "execution_count": 1,
   "metadata": {},
   "outputs": [
    {
     "name": "stdout",
     "output_type": "stream",
     "text": [
      "First 20 non-even prime natural numbers are: \n",
      "3 5 7 11 13 17 19 23 29 31 37 41 43 47 53 59 61 67 71 73\n"
     ]
    }
   ],
   "source": [
    "print(f'First 20 non-even prime natural numbers are: ')\n",
    "x = 2\n",
    "noneven_prime = []\n",
    "while len(noneven_prime) != 20:\n",
    "    if x % 2 != 0:\n",
    "        for i in range(2, x//2 + 2):\n",
    "            if x % i == 0:\n",
    "                break\n",
    "            elif i == x//2 + 1:\n",
    "                noneven_prime.append(x)\n",
    "    x += 1\n",
    "print(*noneven_prime)"
   ]
  },
  {
   "cell_type": "markdown",
   "metadata": {},
   "source": [
    "__Question 2 :\n",
    "Write a Python program to implement 15 functions of string.__"
   ]
  },
  {
   "cell_type": "code",
   "execution_count": 4,
   "metadata": {},
   "outputs": [
    {
     "name": "stdout",
     "output_type": "stream",
     "text": [
      "len(): 20\n",
      "title(): Function'S Of String\n",
      "lower(): function's of string\n",
      "upper(): FUNCTION'S OF STRING\n",
      "swapcase(): fUNcTIOn'S oF sTRINg\n",
      "casefold(): function's of string\n",
      "replace(): FunCtioN'z Of StrinG\n",
      "join(): FunCtioN's_Of_StrinG\n",
      "split(): [\"FunCtioN's\", 'Of', 'StrinG']\n",
      "find(): -1\n",
      "count(): 0\n",
      "partition(): (\"FunCtioN's\", ' ', 'Of StrinG')\n",
      "islower(): False\n",
      "center(): FunCtioN's Of StrinG\n",
      "isalpha(): False\n"
     ]
    }
   ],
   "source": [
    "String = \"FunCtioN's Of StrinG\"\n",
    "\n",
    "print(f'len(): {len(String)}')\n",
    "print(f'title(): {String.title()}')\n",
    "print(f'lower(): {String.lower()}')\n",
    "print(f'upper(): {String.upper()}')\n",
    "print(f'swapcase(): {String.swapcase()}')\n",
    "print(f'casefold(): {String.casefold()}')\n",
    "print(f'replace(): {String.replace(\"s\", \"z\")}')\n",
    "print(f'join(): {\"_\".join(String.split())}')\n",
    "print(f'split(): {String.split()}')\n",
    "print(f'find(): {String.find(\"Up\")}')\n",
    "print(f'count(): {String.count(\"e\")}')\n",
    "print(f'partition(): {String.partition(\" \")}')\n",
    "print(f'islower(): {String.islower()}')\n",
    "print(f'center(): {String.center(20, \"_\")}')\n",
    "print(f'isalpha(): {String.isalpha()}')"
   ]
  },
  {
   "cell_type": "markdown",
   "metadata": {},
   "source": [
    "__Question 3:\n",
    "Write a Python program to check if the given string is a Palindrome or Anagram or None of them.\n",
    "Display the message accordingly to the user.__"
   ]
  },
  {
   "cell_type": "code",
   "execution_count": 9,
   "metadata": {},
   "outputs": [
    {
     "name": "stdout",
     "output_type": "stream",
     "text": [
      "'racecar' is Palindrome\n",
      "'Stressed' and 'Desserts' are Anagram\n",
      "'Debit' and 'Credit' are neither Anagram nor 'Debit' is Palindrome\n"
     ]
    }
   ],
   "source": [
    "def Check(String1, String2):\n",
    "    if String1.lower() == String1[::-1].lower():\n",
    "        print(f\"\\'{String1}\\' is Palindrome\")\n",
    "    elif sorted(String1.lower().replace(' ', '')) == sorted(String2.lower().replace(' ', '')):\n",
    "        print(f\"\\'{String1}\\' and \\'{String2}\\' are Anagram\")\n",
    "    else:\n",
    "        print(f\"\\'{String1}\\' and \\'{String2}\\' are neither Anagram nor \\'{String1}\\' is Palindrome\")\n",
    "\n",
    "\n",
    "Check('racecar', 'Was it a car or a cat I saw')\n",
    "Check('Stressed', 'Desserts')\n",
    "Check('Debit', 'Credit')"
   ]
  },
  {
   "cell_type": "markdown",
   "metadata": {},
   "source": [
    "__Question 4:\n",
    "Write a Python's user defined function that removes all the additional characters from the string\n",
    "and converts it finally to lower case using built-in lower(). eg: If the string is \"Dr. Darshan Ingle\n",
    "@AI-ML Trainer\", then the output be \"drdarshaningleaimltrainer\"__"
   ]
  },
  {
   "cell_type": "code",
   "execution_count": 11,
   "metadata": {},
   "outputs": [
    {
     "name": "stdout",
     "output_type": "stream",
     "text": [
      "drdarshaningleaimltrainer"
     ]
    }
   ],
   "source": [
    "def Remove(string):\n",
    "    for i in string.lower():\n",
    "        if i.isalpha():\n",
    "            print(i, end='')\n",
    "\n",
    "Remove(\"Dr. Darshan Ingle @AI-ML Trainer\")"
   ]
  },
  {
   "cell_type": "markdown",
   "metadata": {},
   "source": [
    "# END"
   ]
  }
 ],
 "metadata": {
  "kernelspec": {
   "display_name": "Python 3",
   "language": "python",
   "name": "python3"
  },
  "language_info": {
   "codemirror_mode": {
    "name": "ipython",
    "version": 3
   },
   "file_extension": ".py",
   "mimetype": "text/x-python",
   "name": "python",
   "nbconvert_exporter": "python",
   "pygments_lexer": "ipython3",
   "version": "3.7.6"
  }
 },
 "nbformat": 4,
 "nbformat_minor": 4
}
