{
 "cells": [
  {
   "cell_type": "markdown",
   "metadata": {},
   "source": [
    "# Day 11"
   ]
  },
  {
   "cell_type": "code",
   "execution_count": 1,
   "metadata": {},
   "outputs": [],
   "source": [
    "import pandas as pd \n",
    "from scipy.stats import pointbiserialr\n",
    "from scipy.stats import pearsonr\n",
    "import matplotlib.pyplot as plt"
   ]
  },
  {
   "cell_type": "code",
   "execution_count": 2,
   "metadata": {},
   "outputs": [],
   "source": [
    "df = pd.read_csv('general_data.csv')"
   ]
  },
  {
   "cell_type": "code",
   "execution_count": 3,
   "metadata": {},
   "outputs": [
    {
     "data": {
      "text/html": [
       "<div>\n",
       "<style scoped>\n",
       "    .dataframe tbody tr th:only-of-type {\n",
       "        vertical-align: middle;\n",
       "    }\n",
       "\n",
       "    .dataframe tbody tr th {\n",
       "        vertical-align: top;\n",
       "    }\n",
       "\n",
       "    .dataframe thead th {\n",
       "        text-align: right;\n",
       "    }\n",
       "</style>\n",
       "<table border=\"1\" class=\"dataframe\">\n",
       "  <thead>\n",
       "    <tr style=\"text-align: right;\">\n",
       "      <th></th>\n",
       "      <th>Age</th>\n",
       "      <th>Attrition</th>\n",
       "      <th>BusinessTravel</th>\n",
       "      <th>Department</th>\n",
       "      <th>DistanceFromHome</th>\n",
       "      <th>Education</th>\n",
       "      <th>EducationField</th>\n",
       "      <th>EmployeeCount</th>\n",
       "      <th>EmployeeID</th>\n",
       "      <th>Gender</th>\n",
       "      <th>...</th>\n",
       "      <th>NumCompaniesWorked</th>\n",
       "      <th>Over18</th>\n",
       "      <th>PercentSalaryHike</th>\n",
       "      <th>StandardHours</th>\n",
       "      <th>StockOptionLevel</th>\n",
       "      <th>TotalWorkingYears</th>\n",
       "      <th>TrainingTimesLastYear</th>\n",
       "      <th>YearsAtCompany</th>\n",
       "      <th>YearsSinceLastPromotion</th>\n",
       "      <th>YearsWithCurrManager</th>\n",
       "    </tr>\n",
       "  </thead>\n",
       "  <tbody>\n",
       "    <tr>\n",
       "      <th>0</th>\n",
       "      <td>51</td>\n",
       "      <td>No</td>\n",
       "      <td>Travel_Rarely</td>\n",
       "      <td>Sales</td>\n",
       "      <td>6</td>\n",
       "      <td>2</td>\n",
       "      <td>Life Sciences</td>\n",
       "      <td>1</td>\n",
       "      <td>1</td>\n",
       "      <td>Female</td>\n",
       "      <td>...</td>\n",
       "      <td>1.0</td>\n",
       "      <td>Y</td>\n",
       "      <td>11</td>\n",
       "      <td>8</td>\n",
       "      <td>0</td>\n",
       "      <td>1.0</td>\n",
       "      <td>6</td>\n",
       "      <td>1</td>\n",
       "      <td>0</td>\n",
       "      <td>0</td>\n",
       "    </tr>\n",
       "    <tr>\n",
       "      <th>1</th>\n",
       "      <td>31</td>\n",
       "      <td>Yes</td>\n",
       "      <td>Travel_Frequently</td>\n",
       "      <td>Research &amp; Development</td>\n",
       "      <td>10</td>\n",
       "      <td>1</td>\n",
       "      <td>Life Sciences</td>\n",
       "      <td>1</td>\n",
       "      <td>2</td>\n",
       "      <td>Female</td>\n",
       "      <td>...</td>\n",
       "      <td>0.0</td>\n",
       "      <td>Y</td>\n",
       "      <td>23</td>\n",
       "      <td>8</td>\n",
       "      <td>1</td>\n",
       "      <td>6.0</td>\n",
       "      <td>3</td>\n",
       "      <td>5</td>\n",
       "      <td>1</td>\n",
       "      <td>4</td>\n",
       "    </tr>\n",
       "    <tr>\n",
       "      <th>2</th>\n",
       "      <td>32</td>\n",
       "      <td>No</td>\n",
       "      <td>Travel_Frequently</td>\n",
       "      <td>Research &amp; Development</td>\n",
       "      <td>17</td>\n",
       "      <td>4</td>\n",
       "      <td>Other</td>\n",
       "      <td>1</td>\n",
       "      <td>3</td>\n",
       "      <td>Male</td>\n",
       "      <td>...</td>\n",
       "      <td>1.0</td>\n",
       "      <td>Y</td>\n",
       "      <td>15</td>\n",
       "      <td>8</td>\n",
       "      <td>3</td>\n",
       "      <td>5.0</td>\n",
       "      <td>2</td>\n",
       "      <td>5</td>\n",
       "      <td>0</td>\n",
       "      <td>3</td>\n",
       "    </tr>\n",
       "    <tr>\n",
       "      <th>3</th>\n",
       "      <td>38</td>\n",
       "      <td>No</td>\n",
       "      <td>Non-Travel</td>\n",
       "      <td>Research &amp; Development</td>\n",
       "      <td>2</td>\n",
       "      <td>5</td>\n",
       "      <td>Life Sciences</td>\n",
       "      <td>1</td>\n",
       "      <td>4</td>\n",
       "      <td>Male</td>\n",
       "      <td>...</td>\n",
       "      <td>3.0</td>\n",
       "      <td>Y</td>\n",
       "      <td>11</td>\n",
       "      <td>8</td>\n",
       "      <td>3</td>\n",
       "      <td>13.0</td>\n",
       "      <td>5</td>\n",
       "      <td>8</td>\n",
       "      <td>7</td>\n",
       "      <td>5</td>\n",
       "    </tr>\n",
       "    <tr>\n",
       "      <th>4</th>\n",
       "      <td>32</td>\n",
       "      <td>No</td>\n",
       "      <td>Travel_Rarely</td>\n",
       "      <td>Research &amp; Development</td>\n",
       "      <td>10</td>\n",
       "      <td>1</td>\n",
       "      <td>Medical</td>\n",
       "      <td>1</td>\n",
       "      <td>5</td>\n",
       "      <td>Male</td>\n",
       "      <td>...</td>\n",
       "      <td>4.0</td>\n",
       "      <td>Y</td>\n",
       "      <td>12</td>\n",
       "      <td>8</td>\n",
       "      <td>2</td>\n",
       "      <td>9.0</td>\n",
       "      <td>2</td>\n",
       "      <td>6</td>\n",
       "      <td>0</td>\n",
       "      <td>4</td>\n",
       "    </tr>\n",
       "  </tbody>\n",
       "</table>\n",
       "<p>5 rows × 24 columns</p>\n",
       "</div>"
      ],
      "text/plain": [
       "   Age Attrition     BusinessTravel              Department  DistanceFromHome  \\\n",
       "0   51        No      Travel_Rarely                   Sales                 6   \n",
       "1   31       Yes  Travel_Frequently  Research & Development                10   \n",
       "2   32        No  Travel_Frequently  Research & Development                17   \n",
       "3   38        No         Non-Travel  Research & Development                 2   \n",
       "4   32        No      Travel_Rarely  Research & Development                10   \n",
       "\n",
       "   Education EducationField  EmployeeCount  EmployeeID  Gender  ...  \\\n",
       "0          2  Life Sciences              1           1  Female  ...   \n",
       "1          1  Life Sciences              1           2  Female  ...   \n",
       "2          4          Other              1           3    Male  ...   \n",
       "3          5  Life Sciences              1           4    Male  ...   \n",
       "4          1        Medical              1           5    Male  ...   \n",
       "\n",
       "   NumCompaniesWorked Over18 PercentSalaryHike  StandardHours  \\\n",
       "0                 1.0      Y                11              8   \n",
       "1                 0.0      Y                23              8   \n",
       "2                 1.0      Y                15              8   \n",
       "3                 3.0      Y                11              8   \n",
       "4                 4.0      Y                12              8   \n",
       "\n",
       "   StockOptionLevel TotalWorkingYears  TrainingTimesLastYear  YearsAtCompany  \\\n",
       "0                 0               1.0                      6               1   \n",
       "1                 1               6.0                      3               5   \n",
       "2                 3               5.0                      2               5   \n",
       "3                 3              13.0                      5               8   \n",
       "4                 2               9.0                      2               6   \n",
       "\n",
       "   YearsSinceLastPromotion  YearsWithCurrManager  \n",
       "0                        0                     0  \n",
       "1                        1                     4  \n",
       "2                        0                     3  \n",
       "3                        7                     5  \n",
       "4                        0                     4  \n",
       "\n",
       "[5 rows x 24 columns]"
      ]
     },
     "execution_count": 3,
     "metadata": {},
     "output_type": "execute_result"
    }
   ],
   "source": [
    "df.head()"
   ]
  },
  {
   "cell_type": "code",
   "execution_count": 4,
   "metadata": {},
   "outputs": [
    {
     "data": {
      "text/plain": [
       "Index(['Age', 'Attrition', 'BusinessTravel', 'Department', 'DistanceFromHome',\n",
       "       'Education', 'EducationField', 'EmployeeCount', 'EmployeeID', 'Gender',\n",
       "       'JobLevel', 'JobRole', 'MaritalStatus', 'MonthlyIncome',\n",
       "       'NumCompaniesWorked', 'Over18', 'PercentSalaryHike', 'StandardHours',\n",
       "       'StockOptionLevel', 'TotalWorkingYears', 'TrainingTimesLastYear',\n",
       "       'YearsAtCompany', 'YearsSinceLastPromotion', 'YearsWithCurrManager'],\n",
       "      dtype='object')"
      ]
     },
     "execution_count": 4,
     "metadata": {},
     "output_type": "execute_result"
    }
   ],
   "source": [
    "df.columns"
   ]
  },
  {
   "cell_type": "code",
   "execution_count": 5,
   "metadata": {},
   "outputs": [],
   "source": [
    "df.Attrition.replace(to_replace = ('No','Yes'),value = (0,1),inplace = True)"
   ]
  },
  {
   "cell_type": "code",
   "execution_count": 25,
   "metadata": {},
   "outputs": [
    {
     "name": "stdout",
     "output_type": "stream",
     "text": [
      "Hypothesis 1\n",
      " Null hypothesis (H0) = Age and attrition have no correlation\n",
      " Alternate hypothesis (H1) = Age and attrition have a correlation between them\n",
      "\n",
      "Correlation Coefficient: -0.15920500686577949    P-Value: 1.996801615887198e-26\n",
      "\n",
      "Since P-Value is <0.05, We REJECT NULL hypothesis and conclude that There is a Negative Correlation\n"
     ]
    }
   ],
   "source": [
    "print(\"Hypothesis 1\\n Null hypothesis (H0) = Age and Attrition have no correlation\\n Alternate hypothesis (H1) = Age and Attrition have a correlation between them\")\n",
    "stats, p = pearsonr(df.Attrition, df.Age)\n",
    "print(\"\\nCorrelation Coefficient:\",stats,\"   P-Value:\", p)\n",
    "if p < 0.05:\n",
    "    print(\"\\nSince P-Value is <0.05, We REJECT NULL hypothesis and conclude that\",\"There is a Negative Correlation\" if stats < 0 else \",There is a Positive Correlation\")\n",
    "else:\n",
    "    print(\"We ACCEPT NULL hypothesis and conclude that there is NO RELATION\")"
   ]
  },
  {
   "cell_type": "code",
   "execution_count": 36,
   "metadata": {},
   "outputs": [
    {
     "name": "stdout",
     "output_type": "stream",
     "text": [
      "Hypothesis 2\n",
      " Null hypothesis (H0) = Distance from home and Attrition have no correlation\n",
      " Alternate hypothesis (H1) = Distance from home and Attrition have a correlation between them\n",
      "\n",
      "Correlation Coefficient: -0.009730141010179692    P-Value: 0.5182860428050771\n",
      "We ACCEPT NULL hypothesis and conclude that there is NO RELATION\n"
     ]
    }
   ],
   "source": [
    "print(\"Hypothesis 2\\n Null hypothesis (H0) = Distance from home and Attrition have no correlation\\n Alternate hypothesis (H1) = Distance from home and Attrition have a correlation between them\")\n",
    "stats, p = pearsonr(df.Attrition, df.DistanceFromHome)\n",
    "print(\"\\nCorrelation Coefficient:\",stats,\"   P-Value:\", p)\n",
    "if p < 0.05:\n",
    "    print(\"\\nSince P-Value is <0.05, We REJECT NULL hypothesis and conclude that\",\"There is a Negative Correlation\" if stats < 0 else \",There is a Positive Correlation\")\n",
    "else:\n",
    "    print(\"We ACCEPT NULL hypothesis and conclude that there is NO RELATION\")"
   ]
  },
  {
   "cell_type": "code",
   "execution_count": 28,
   "metadata": {},
   "outputs": [
    {
     "name": "stdout",
     "output_type": "stream",
     "text": [
      "Hypothesis 3\n",
      " Null hypothesis (H0) = Monthly Income and Attrition have no correlation\n",
      " Alternate hypothesis (H1) = Monthly Income and Attrition have a correlation between them\n",
      "\n",
      "Correlation Coefficient: -0.03117628169811501    P-Value: 0.03842748490600132\n",
      "\n",
      "Since P-Value is <0.05, We REJECT NULL hypothesis and conclude that There is a Negative Correlation\n"
     ]
    }
   ],
   "source": [
    "print(\"Hypothesis 3\\n Null hypothesis (H0) = Monthly Income and Attrition have no correlation\\n Alternate hypothesis (H1) = Monthly Income and Attrition have a correlation between them\")\n",
    "stats, p = pearsonr(df.Attrition, df.MonthlyIncome)\n",
    "print(\"\\nCorrelation Coefficient:\",stats,\"   P-Value:\", p)\n",
    "if p < 0.05:\n",
    "    print(\"\\nSince P-Value is <0.05, We REJECT NULL hypothesis and conclude that\",\"There is a Negative Correlation\" if stats < 0 else \",There is a Positive Correlation\")\n",
    "else:\n",
    "    print(\"We ACCEPT NULL hypothesis and conclude that there is NO RELATION\")"
   ]
  },
  {
   "cell_type": "code",
   "execution_count": 29,
   "metadata": {},
   "outputs": [
    {
     "name": "stdout",
     "output_type": "stream",
     "text": [
      "Hypothesis 4\n",
      " Null hypothesis (H0) = SalaryHike and Attrition have no correlation\n",
      " Alternate hypothesis (H1) = SalaryHike and Attrition have a correlation between them\n",
      "\n",
      "Correlation Coefficient: 0.0325325948910535    P-Value: 0.030743386433355353\n",
      "\n",
      "Since P-Value is <0.05, We REJECT NULL hypothesis and conclude that ,There is a Positive Correlation\n"
     ]
    }
   ],
   "source": [
    "print(\"Hypothesis 4\\n Null hypothesis (H0) = SalaryHike and Attrition have no correlation\\n Alternate hypothesis (H1) = SalaryHike and Attrition have a correlation between them\")\n",
    "stats, p = pearsonr(df.Attrition, df.PercentSalaryHike)\n",
    "print(\"\\nCorrelation Coefficient:\",stats,\"   P-Value:\", p)\n",
    "if p < 0.05:\n",
    "    print(\"\\nSince P-Value is <0.05, We REJECT NULL hypothesis and conclude that\",\"There is a Negative Correlation\" if stats < 0 else \",There is a Positive Correlation\")\n",
    "else:\n",
    "    print(\"We ACCEPT NULL hypothesis and conclude that there is NO RELATION\")"
   ]
  },
  {
   "cell_type": "code",
   "execution_count": 30,
   "metadata": {},
   "outputs": [
    {
     "name": "stdout",
     "output_type": "stream",
     "text": [
      "Hypothesis 5\n",
      " Null hypothesis (H0) = TrainingTimesLastYear and Attrition have no correlation\n",
      " Alternate hypothesis (H1) = TrainingTimesLastYear and Attrition have a correlation between them\n",
      "\n",
      "Correlation Coefficient: -0.049430576244254974    P-Value: 0.0010247061915365072\n",
      "\n",
      "Since P-Value is <0.05, We REJECT NULL hypothesis and conclude that There is a Negative Correlation\n"
     ]
    }
   ],
   "source": [
    "print(\"Hypothesis 5\\n Null hypothesis (H0) = TrainingTimesLastYear and Attrition have no correlation\\n Alternate hypothesis (H1) = TrainingTimesLastYear and Attrition have a correlation between them\")\n",
    "stats, p = pearsonr(df.Attrition, df.TrainingTimesLastYear)\n",
    "print(\"\\nCorrelation Coefficient:\",stats,\"   P-Value:\", p)\n",
    "if p < 0.05:\n",
    "    print(\"\\nSince P-Value is <0.05, We REJECT NULL hypothesis and conclude that\",\"There is a Negative Correlation\" if stats < 0 else \",There is a Positive Correlation\")\n",
    "else:\n",
    "    print(\"We ACCEPT NULL hypothesis and conclude that there is NO RELATION\")"
   ]
  },
  {
   "cell_type": "code",
   "execution_count": 32,
   "metadata": {},
   "outputs": [
    {
     "name": "stdout",
     "output_type": "stream",
     "text": [
      "Hypothesis 6\n",
      " Null hypothesis (H0) = YearsAtCompany and Attrition have no correlation\n",
      " Alternate hypothesis (H1) = YearsAtCompany and Attrition have a correlation between them\n",
      "\n",
      "Correlation Coefficient: -0.13439221398997717    P-Value: 3.1638831224877484e-19\n",
      "\n",
      "Since P-Value is <0.05, We REJECT NULL hypothesis and conclude that There is a Negative Correlation\n"
     ]
    }
   ],
   "source": [
    "print(\"Hypothesis 6\\n Null hypothesis (H0) = YearsAtCompany and Attrition have no correlation\\n Alternate hypothesis (H1) = YearsAtCompany and Attrition have a correlation between them\")\n",
    "stats, p = pearsonr(df.Attrition, df.YearsAtCompany)\n",
    "print(\"\\nCorrelation Coefficient:\",stats,\"   P-Value:\", p)\n",
    "if p < 0.05:\n",
    "    print(\"\\nSince P-Value is <0.05, We REJECT NULL hypothesis and conclude that\",\"There is a Negative Correlation\" if stats < 0 else \",There is a Positive Correlation\")\n",
    "else:\n",
    "    print(\"We ACCEPT NULL hypothesis and conclude that there is NO RELATION\")"
   ]
  },
  {
   "cell_type": "code",
   "execution_count": 33,
   "metadata": {},
   "outputs": [
    {
     "name": "stdout",
     "output_type": "stream",
     "text": [
      "Hypothesis 7\n",
      " Null hypothesis (H0) = YearsSinceLastPromotion and Attrition have no correlation\n",
      " Alternate hypothesis (H1) = YearsSinceLastPromotion and Attrition have a correlation between them\n",
      "\n",
      "Correlation Coefficient: -0.03301877514258437    P-Value: 0.028330336189396753\n",
      "\n",
      "Since P-Value is <0.05, We REJECT NULL hypothesis and conclude that There is a Negative Correlation\n"
     ]
    }
   ],
   "source": [
    "print(\"Hypothesis 7\\n Null hypothesis (H0) = YearsSinceLastPromotion and Attrition have no correlation\\n Alternate hypothesis (H1) = YearsSinceLastPromotion and Attrition have a correlation between them\")\n",
    "stats, p = pearsonr(df.Attrition, df.YearsSinceLastPromotion)\n",
    "print(\"\\nCorrelation Coefficient:\",stats,\"   P-Value:\", p)\n",
    "if p < 0.05:\n",
    "    print(\"\\nSince P-Value is <0.05, We REJECT NULL hypothesis and conclude that\",\"There is a Negative Correlation\" if stats < 0 else \",There is a Positive Correlation\")\n",
    "else:\n",
    "    print(\"We ACCEPT NULL hypothesis and conclude that there is NO RELATION\")"
   ]
  },
  {
   "cell_type": "code",
   "execution_count": 35,
   "metadata": {},
   "outputs": [
    {
     "name": "stdout",
     "output_type": "stream",
     "text": [
      "Hypothesis 8\n",
      " Null hypothesis (H0) = YearsWithCurrManager and Attrition have no correlation\n",
      " Alternate hypothesis (H1) = YearsWithCurrManager and Attrition have a correlation between them\n",
      "\n",
      "Correlation Coefficient: -0.15619931590162806    P-Value: 1.7339322652900218e-25\n",
      "\n",
      "Since P-Value is <0.05, We REJECT NULL hypothesis and conclude that There is a Negative Correlation\n"
     ]
    }
   ],
   "source": [
    "print(\"Hypothesis 8\\n Null hypothesis (H0) = YearsWithCurrManager and Attrition have no correlation\\n Alternate hypothesis (H1) = YearsWithCurrManager and Attrition have a correlation between them\")\n",
    "stats, p = pearsonr(df.Attrition, df.YearsWithCurrManager)\n",
    "print(\"\\nCorrelation Coefficient:\",stats,\"   P-Value:\", p)\n",
    "if p < 0.05:\n",
    "    print(\"\\nSince P-Value is <0.05, We REJECT NULL hypothesis and conclude that\",\"There is a Negative Correlation\" if stats < 0 else \",There is a Positive Correlation\")\n",
    "else:\n",
    "    print(\"We ACCEPT NULL hypothesis and conclude that there is NO RELATION\")"
   ]
  }
 ],
 "metadata": {
  "kernelspec": {
   "display_name": "Python 3",
   "language": "python",
   "name": "python3"
  },
  "language_info": {
   "codemirror_mode": {
    "name": "ipython",
    "version": 3
   },
   "file_extension": ".py",
   "mimetype": "text/x-python",
   "name": "python",
   "nbconvert_exporter": "python",
   "pygments_lexer": "ipython3",
   "version": "3.7.8"
  },
  "toc": {
   "base_numbering": 1,
   "nav_menu": {},
   "number_sections": true,
   "sideBar": true,
   "skip_h1_title": true,
   "title_cell": "Table of Contents",
   "title_sidebar": "Contents",
   "toc_cell": false,
   "toc_position": {},
   "toc_section_display": true,
   "toc_window_display": false
  },
  "varInspector": {
   "cols": {
    "lenName": 16,
    "lenType": 16,
    "lenVar": 40
   },
   "kernels_config": {
    "python": {
     "delete_cmd_postfix": "",
     "delete_cmd_prefix": "del ",
     "library": "var_list.py",
     "varRefreshCmd": "print(var_dic_list())"
    },
    "r": {
     "delete_cmd_postfix": ") ",
     "delete_cmd_prefix": "rm(",
     "library": "var_list.r",
     "varRefreshCmd": "cat(var_dic_list()) "
    }
   },
   "types_to_exclude": [
    "module",
    "function",
    "builtin_function_or_method",
    "instance",
    "_Feature"
   ],
   "window_display": false
  }
 },
 "nbformat": 4,
 "nbformat_minor": 4
}
