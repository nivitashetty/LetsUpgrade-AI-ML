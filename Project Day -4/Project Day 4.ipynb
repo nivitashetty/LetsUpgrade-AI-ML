{
 "cells": [
  {
   "cell_type": "markdown",
   "metadata": {},
   "source": [
    "# Project Day 4 - Data Collection Using Twitter API.\n"
   ]
  },
  {
   "cell_type": "code",
   "execution_count": 2,
   "metadata": {},
   "outputs": [
    {
     "name": "stdout",
     "output_type": "stream",
     "text": [
      "Collecting tweepy\n",
      "  Downloading tweepy-3.9.0-py2.py3-none-any.whl (30 kB)\n",
      "Requirement already satisfied: six>=1.10.0 in d:\\anaconda\\lib\\site-packages (from tweepy) (1.15.0)\n",
      "Requirement already satisfied: requests[socks]>=2.11.1 in d:\\anaconda\\lib\\site-packages (from tweepy) (2.24.0)\n",
      "Collecting requests-oauthlib>=0.7.0\n",
      "  Downloading requests_oauthlib-1.3.0-py2.py3-none-any.whl (23 kB)\n",
      "Requirement already satisfied: idna<3,>=2.5 in d:\\anaconda\\lib\\site-packages (from requests[socks]>=2.11.1->tweepy) (2.10)\n",
      "Requirement already satisfied: chardet<4,>=3.0.2 in d:\\anaconda\\lib\\site-packages (from requests[socks]>=2.11.1->tweepy) (3.0.4)\n",
      "Requirement already satisfied: certifi>=2017.4.17 in d:\\anaconda\\lib\\site-packages (from requests[socks]>=2.11.1->tweepy) (2020.6.20)\n",
      "Requirement already satisfied: urllib3!=1.25.0,!=1.25.1,<1.26,>=1.21.1 in d:\\anaconda\\lib\\site-packages (from requests[socks]>=2.11.1->tweepy) (1.25.9)\n",
      "Requirement already satisfied: PySocks!=1.5.7,>=1.5.6; extra == \"socks\" in d:\\anaconda\\lib\\site-packages (from requests[socks]>=2.11.1->tweepy) (1.7.1)\n",
      "Collecting oauthlib>=3.0.0\n",
      "  Downloading oauthlib-3.1.0-py2.py3-none-any.whl (147 kB)\n",
      "Installing collected packages: oauthlib, requests-oauthlib, tweepy\n",
      "Successfully installed oauthlib-3.1.0 requests-oauthlib-1.3.0 tweepy-3.9.0\n"
     ]
    }
   ],
   "source": [
    "!pip install tweepy"
   ]
  },
  {
   "cell_type": "code",
   "execution_count": 3,
   "metadata": {},
   "outputs": [
    {
     "name": "stdout",
     "output_type": "stream",
     "text": [
      "Requirement already satisfied: openpyxl in d:\\anaconda\\lib\\site-packages (3.0.4)\n",
      "Requirement already satisfied: et-xmlfile in d:\\anaconda\\lib\\site-packages (from openpyxl) (1.0.1)\n",
      "Requirement already satisfied: jdcal in d:\\anaconda\\lib\\site-packages (from openpyxl) (1.4.1)\n"
     ]
    }
   ],
   "source": [
    "!pip install openpyxl"
   ]
  },
  {
   "cell_type": "code",
   "execution_count": 4,
   "metadata": {},
   "outputs": [],
   "source": [
    "import numpy as np\n",
    "import pandas as pd\n",
    "import tweepy\n",
    "import json\n",
    "from tweepy import OAuthHandler"
   ]
  },
  {
   "cell_type": "code",
   "execution_count": 5,
   "metadata": {},
   "outputs": [],
   "source": [
    "consumer_key = \"LzsCOl12ZZ79FObx7BV9a1R3a\"\n",
    "consumer_secret = \"gODxZ1kHJHDGgYfyP12AUN37UTlDd6yn3OsSV9Tl0iwu0K0cRY\"\n",
    "access_token = \"296102538-kYIK8SULCmRK4vgvYD2DhKbwvSXrgTdTkWh0Nvsp\"\n",
    "access_token_secret = \"Ib9obwgcE5tZk4S6tY5rAqI5iXOeJc9FGFg28qHoa4YpP\""
   ]
  },
  {
   "cell_type": "code",
   "execution_count": 6,
   "metadata": {},
   "outputs": [],
   "source": [
    "auth = tweepy.OAuthHandler( consumer_key , consumer_secret )\n",
    "auth.set_access_token( access_token , access_token_secret )\n",
    "api = tweepy.API(auth)"
   ]
  },
  {
   "cell_type": "code",
   "execution_count": 29,
   "metadata": {},
   "outputs": [],
   "source": [
    "query = \"MI winning IPL\""
   ]
  },
  {
   "cell_type": "code",
   "execution_count": 30,
   "metadata": {},
   "outputs": [
    {
     "name": "stdout",
     "output_type": "stream",
     "text": [
      "Status(_api=<tweepy.api.API object at 0x000001D5154911F0>, _json={'created_at': 'Sat Oct 31 10:03:53 +0000 2020', 'id': 1322479398235168768, 'id_str': '1322479398235168768', 'full_text': '#MIvsDC #IPL2020 #DCvsMI\\n\\nMatch 51, DC vs MI |\\n\\nOUT! Trent Boult gets Shikhar Dhawan. DC 1/1\\n\\nFollow live:\\n\\nhttps://t.co/LjJju2zeZ7', 'truncated': False, 'display_text_range': [0, 131], 'entities': {'hashtags': [{'text': 'MIvsDC', 'indices': [0, 7]}, {'text': 'IPL2020', 'indices': [8, 16]}, {'text': 'DCvsMI', 'indices': [17, 24]}], 'symbols': [], 'user_mentions': [], 'urls': [{'url': 'https://t.co/LjJju2zeZ7', 'expanded_url': 'https://www.timesnownews.com/sports/cricket/article/delhi-capitals-vs-mumbai-indians-ipl-2020-live-score-and-updates-dc-aim-to-return-to-winning-ways/675443', 'display_url': 'timesnownews.com/sports/cricket…', 'indices': [108, 131]}]}, 'metadata': {'iso_language_code': 'en', 'result_type': 'recent'}, 'source': '<a href=\"https://mobile.twitter.com\" rel=\"nofollow\">Twitter Web App</a>', 'in_reply_to_status_id': None, 'in_reply_to_status_id_str': None, 'in_reply_to_user_id': None, 'in_reply_to_user_id_str': None, 'in_reply_to_screen_name': None, 'user': {'id': 981434972270743555, 'id_str': '981434972270743555', 'name': 'Times Now Sports', 'screen_name': 'timesnowsports', 'location': '', 'description': 'Your one-stop destination for sports news from across the globe. Follow for all latest updates related to Cricket, Football, Badminton, Tennis and other sports.', 'url': None, 'entities': {'description': {'urls': []}}, 'protected': False, 'followers_count': 6597, 'friends_count': 97, 'listed_count': 31, 'created_at': 'Wed Apr 04 07:35:06 +0000 2018', 'favourites_count': 11, 'utc_offset': None, 'time_zone': None, 'geo_enabled': False, 'verified': True, 'statuses_count': 24847, 'lang': None, 'contributors_enabled': False, 'is_translator': False, 'is_translation_enabled': False, 'profile_background_color': 'F5F8FA', 'profile_background_image_url': None, 'profile_background_image_url_https': None, 'profile_background_tile': False, 'profile_image_url': 'http://pbs.twimg.com/profile_images/981435345639264257/YbHh87ck_normal.jpg', 'profile_image_url_https': 'https://pbs.twimg.com/profile_images/981435345639264257/YbHh87ck_normal.jpg', 'profile_banner_url': 'https://pbs.twimg.com/profile_banners/981434972270743555/1600515000', 'profile_link_color': '1DA1F2', 'profile_sidebar_border_color': 'C0DEED', 'profile_sidebar_fill_color': 'DDEEF6', 'profile_text_color': '333333', 'profile_use_background_image': True, 'has_extended_profile': False, 'default_profile': True, 'default_profile_image': False, 'following': False, 'follow_request_sent': False, 'notifications': False, 'translator_type': 'none'}, 'geo': None, 'coordinates': None, 'place': None, 'contributors': None, 'is_quote_status': False, 'retweet_count': 0, 'favorite_count': 0, 'favorited': False, 'retweeted': False, 'possibly_sensitive': False, 'lang': 'en'}, created_at=datetime.datetime(2020, 10, 31, 10, 3, 53), id=1322479398235168768, id_str='1322479398235168768', full_text='#MIvsDC #IPL2020 #DCvsMI\\n\\nMatch 51, DC vs MI |\\n\\nOUT! Trent Boult gets Shikhar Dhawan. DC 1/1\\n\\nFollow live:\\n\\nhttps://t.co/LjJju2zeZ7', truncated=False, display_text_range=[0, 131], entities={'hashtags': [{'text': 'MIvsDC', 'indices': [0, 7]}, {'text': 'IPL2020', 'indices': [8, 16]}, {'text': 'DCvsMI', 'indices': [17, 24]}], 'symbols': [], 'user_mentions': [], 'urls': [{'url': 'https://t.co/LjJju2zeZ7', 'expanded_url': 'https://www.timesnownews.com/sports/cricket/article/delhi-capitals-vs-mumbai-indians-ipl-2020-live-score-and-updates-dc-aim-to-return-to-winning-ways/675443', 'display_url': 'timesnownews.com/sports/cricket…', 'indices': [108, 131]}]}, metadata={'iso_language_code': 'en', 'result_type': 'recent'}, source='Twitter Web App', source_url='https://mobile.twitter.com', in_reply_to_status_id=None, in_reply_to_status_id_str=None, in_reply_to_user_id=None, in_reply_to_user_id_str=None, in_reply_to_screen_name=None, author=User(_api=<tweepy.api.API object at 0x000001D5154911F0>, _json={'id': 981434972270743555, 'id_str': '981434972270743555', 'name': 'Times Now Sports', 'screen_name': 'timesnowsports', 'location': '', 'description': 'Your one-stop destination for sports news from across the globe. Follow for all latest updates related to Cricket, Football, Badminton, Tennis and other sports.', 'url': None, 'entities': {'description': {'urls': []}}, 'protected': False, 'followers_count': 6597, 'friends_count': 97, 'listed_count': 31, 'created_at': 'Wed Apr 04 07:35:06 +0000 2018', 'favourites_count': 11, 'utc_offset': None, 'time_zone': None, 'geo_enabled': False, 'verified': True, 'statuses_count': 24847, 'lang': None, 'contributors_enabled': False, 'is_translator': False, 'is_translation_enabled': False, 'profile_background_color': 'F5F8FA', 'profile_background_image_url': None, 'profile_background_image_url_https': None, 'profile_background_tile': False, 'profile_image_url': 'http://pbs.twimg.com/profile_images/981435345639264257/YbHh87ck_normal.jpg', 'profile_image_url_https': 'https://pbs.twimg.com/profile_images/981435345639264257/YbHh87ck_normal.jpg', 'profile_banner_url': 'https://pbs.twimg.com/profile_banners/981434972270743555/1600515000', 'profile_link_color': '1DA1F2', 'profile_sidebar_border_color': 'C0DEED', 'profile_sidebar_fill_color': 'DDEEF6', 'profile_text_color': '333333', 'profile_use_background_image': True, 'has_extended_profile': False, 'default_profile': True, 'default_profile_image': False, 'following': False, 'follow_request_sent': False, 'notifications': False, 'translator_type': 'none'}, id=981434972270743555, id_str='981434972270743555', name='Times Now Sports', screen_name='timesnowsports', location='', description='Your one-stop destination for sports news from across the globe. Follow for all latest updates related to Cricket, Football, Badminton, Tennis and other sports.', url=None, entities={'description': {'urls': []}}, protected=False, followers_count=6597, friends_count=97, listed_count=31, created_at=datetime.datetime(2018, 4, 4, 7, 35, 6), favourites_count=11, utc_offset=None, time_zone=None, geo_enabled=False, verified=True, statuses_count=24847, lang=None, contributors_enabled=False, is_translator=False, is_translation_enabled=False, profile_background_color='F5F8FA', profile_background_image_url=None, profile_background_image_url_https=None, profile_background_tile=False, profile_image_url='http://pbs.twimg.com/profile_images/981435345639264257/YbHh87ck_normal.jpg', profile_image_url_https='https://pbs.twimg.com/profile_images/981435345639264257/YbHh87ck_normal.jpg', profile_banner_url='https://pbs.twimg.com/profile_banners/981434972270743555/1600515000', profile_link_color='1DA1F2', profile_sidebar_border_color='C0DEED', profile_sidebar_fill_color='DDEEF6', profile_text_color='333333', profile_use_background_image=True, has_extended_profile=False, default_profile=True, default_profile_image=False, following=False, follow_request_sent=False, notifications=False, translator_type='none'), user=User(_api=<tweepy.api.API object at 0x000001D5154911F0>, _json={'id': 981434972270743555, 'id_str': '981434972270743555', 'name': 'Times Now Sports', 'screen_name': 'timesnowsports', 'location': '', 'description': 'Your one-stop destination for sports news from across the globe. Follow for all latest updates related to Cricket, Football, Badminton, Tennis and other sports.', 'url': None, 'entities': {'description': {'urls': []}}, 'protected': False, 'followers_count': 6597, 'friends_count': 97, 'listed_count': 31, 'created_at': 'Wed Apr 04 07:35:06 +0000 2018', 'favourites_count': 11, 'utc_offset': None, 'time_zone': None, 'geo_enabled': False, 'verified': True, 'statuses_count': 24847, 'lang': None, 'contributors_enabled': False, 'is_translator': False, 'is_translation_enabled': False, 'profile_background_color': 'F5F8FA', 'profile_background_image_url': None, 'profile_background_image_url_https': None, 'profile_background_tile': False, 'profile_image_url': 'http://pbs.twimg.com/profile_images/981435345639264257/YbHh87ck_normal.jpg', 'profile_image_url_https': 'https://pbs.twimg.com/profile_images/981435345639264257/YbHh87ck_normal.jpg', 'profile_banner_url': 'https://pbs.twimg.com/profile_banners/981434972270743555/1600515000', 'profile_link_color': '1DA1F2', 'profile_sidebar_border_color': 'C0DEED', 'profile_sidebar_fill_color': 'DDEEF6', 'profile_text_color': '333333', 'profile_use_background_image': True, 'has_extended_profile': False, 'default_profile': True, 'default_profile_image': False, 'following': False, 'follow_request_sent': False, 'notifications': False, 'translator_type': 'none'}, id=981434972270743555, id_str='981434972270743555', name='Times Now Sports', screen_name='timesnowsports', location='', description='Your one-stop destination for sports news from across the globe. Follow for all latest updates related to Cricket, Football, Badminton, Tennis and other sports.', url=None, entities={'description': {'urls': []}}, protected=False, followers_count=6597, friends_count=97, listed_count=31, created_at=datetime.datetime(2018, 4, 4, 7, 35, 6), favourites_count=11, utc_offset=None, time_zone=None, geo_enabled=False, verified=True, statuses_count=24847, lang=None, contributors_enabled=False, is_translator=False, is_translation_enabled=False, profile_background_color='F5F8FA', profile_background_image_url=None, profile_background_image_url_https=None, profile_background_tile=False, profile_image_url='http://pbs.twimg.com/profile_images/981435345639264257/YbHh87ck_normal.jpg', profile_image_url_https='https://pbs.twimg.com/profile_images/981435345639264257/YbHh87ck_normal.jpg', profile_banner_url='https://pbs.twimg.com/profile_banners/981434972270743555/1600515000', profile_link_color='1DA1F2', profile_sidebar_border_color='C0DEED', profile_sidebar_fill_color='DDEEF6', profile_text_color='333333', profile_use_background_image=True, has_extended_profile=False, default_profile=True, default_profile_image=False, following=False, follow_request_sent=False, notifications=False, translator_type='none'), geo=None, coordinates=None, place=None, contributors=None, is_quote_status=False, retweet_count=0, favorite_count=0, favorited=False, retweeted=False, possibly_sensitive=False, lang='en') \n",
      "\n",
      ".....................................\n",
      "\n",
      "Status(_api=<tweepy.api.API object at 0x000001D5154911F0>, _json={'created_at': 'Sat Oct 31 10:03:10 +0000 2020', 'id': 1322479216630276097, 'id_str': '1322479216630276097', 'full_text': '@mipaltan @IPL #MI winning first IPL trophy 🏆', 'truncated': False, 'display_text_range': [15, 45], 'entities': {'hashtags': [{'text': 'MI', 'indices': [15, 18]}], 'symbols': [], 'user_mentions': [{'screen_name': 'mipaltan', 'name': 'Mumbai Indians', 'id': 106345557, 'id_str': '106345557', 'indices': [0, 9]}, {'screen_name': 'IPL', 'name': 'IndianPremierLeague', 'id': 15639696, 'id_str': '15639696', 'indices': [10, 14]}], 'urls': []}, 'metadata': {'iso_language_code': 'en', 'result_type': 'recent'}, 'source': '<a href=\"http://twitter.com/download/android\" rel=\"nofollow\">Twitter for Android</a>', 'in_reply_to_status_id': 1322478385965101056, 'in_reply_to_status_id_str': '1322478385965101056', 'in_reply_to_user_id': 106345557, 'in_reply_to_user_id_str': '106345557', 'in_reply_to_screen_name': 'mipaltan', 'user': {'id': 943023252770877440, 'id_str': '943023252770877440', 'name': '𝗔𝗷𝗷𝘂 🎭', 'screen_name': 'Itzz_Ajju', 'location': 'Maharashtra, India', 'description': 'Akshay Kumar Devotee 🙏|| Big Fan Of Kriti Sanon ❤️|| Chris Evans 🔥|| Crazy For Cricket & TMKOC 😍|| Team MI 💙\\n\\n#FanAccount', 'url': None, 'entities': {'description': {'urls': []}}, 'protected': False, 'followers_count': 1138, 'friends_count': 881, 'listed_count': 0, 'created_at': 'Tue Dec 19 07:40:38 +0000 2017', 'favourites_count': 34466, 'utc_offset': None, 'time_zone': None, 'geo_enabled': True, 'verified': False, 'statuses_count': 89495, 'lang': None, 'contributors_enabled': False, 'is_translator': False, 'is_translation_enabled': False, 'profile_background_color': 'F5F8FA', 'profile_background_image_url': None, 'profile_background_image_url_https': None, 'profile_background_tile': False, 'profile_image_url': 'http://pbs.twimg.com/profile_images/1314629711054532611/ZJGZg4bO_normal.jpg', 'profile_image_url_https': 'https://pbs.twimg.com/profile_images/1314629711054532611/ZJGZg4bO_normal.jpg', 'profile_banner_url': 'https://pbs.twimg.com/profile_banners/943023252770877440/1598210728', 'profile_link_color': '1DA1F2', 'profile_sidebar_border_color': 'C0DEED', 'profile_sidebar_fill_color': 'DDEEF6', 'profile_text_color': '333333', 'profile_use_background_image': True, 'has_extended_profile': True, 'default_profile': True, 'default_profile_image': False, 'following': False, 'follow_request_sent': False, 'notifications': False, 'translator_type': 'none'}, 'geo': None, 'coordinates': None, 'place': None, 'contributors': None, 'is_quote_status': False, 'retweet_count': 0, 'favorite_count': 0, 'favorited': False, 'retweeted': False, 'lang': 'en'}, created_at=datetime.datetime(2020, 10, 31, 10, 3, 10), id=1322479216630276097, id_str='1322479216630276097', full_text='@mipaltan @IPL #MI winning first IPL trophy 🏆', truncated=False, display_text_range=[15, 45], entities={'hashtags': [{'text': 'MI', 'indices': [15, 18]}], 'symbols': [], 'user_mentions': [{'screen_name': 'mipaltan', 'name': 'Mumbai Indians', 'id': 106345557, 'id_str': '106345557', 'indices': [0, 9]}, {'screen_name': 'IPL', 'name': 'IndianPremierLeague', 'id': 15639696, 'id_str': '15639696', 'indices': [10, 14]}], 'urls': []}, metadata={'iso_language_code': 'en', 'result_type': 'recent'}, source='Twitter for Android', source_url='http://twitter.com/download/android', in_reply_to_status_id=1322478385965101056, in_reply_to_status_id_str='1322478385965101056', in_reply_to_user_id=106345557, in_reply_to_user_id_str='106345557', in_reply_to_screen_name='mipaltan', author=User(_api=<tweepy.api.API object at 0x000001D5154911F0>, _json={'id': 943023252770877440, 'id_str': '943023252770877440', 'name': '𝗔𝗷𝗷𝘂 🎭', 'screen_name': 'Itzz_Ajju', 'location': 'Maharashtra, India', 'description': 'Akshay Kumar Devotee 🙏|| Big Fan Of Kriti Sanon ❤️|| Chris Evans 🔥|| Crazy For Cricket & TMKOC 😍|| Team MI 💙\\n\\n#FanAccount', 'url': None, 'entities': {'description': {'urls': []}}, 'protected': False, 'followers_count': 1138, 'friends_count': 881, 'listed_count': 0, 'created_at': 'Tue Dec 19 07:40:38 +0000 2017', 'favourites_count': 34466, 'utc_offset': None, 'time_zone': None, 'geo_enabled': True, 'verified': False, 'statuses_count': 89495, 'lang': None, 'contributors_enabled': False, 'is_translator': False, 'is_translation_enabled': False, 'profile_background_color': 'F5F8FA', 'profile_background_image_url': None, 'profile_background_image_url_https': None, 'profile_background_tile': False, 'profile_image_url': 'http://pbs.twimg.com/profile_images/1314629711054532611/ZJGZg4bO_normal.jpg', 'profile_image_url_https': 'https://pbs.twimg.com/profile_images/1314629711054532611/ZJGZg4bO_normal.jpg', 'profile_banner_url': 'https://pbs.twimg.com/profile_banners/943023252770877440/1598210728', 'profile_link_color': '1DA1F2', 'profile_sidebar_border_color': 'C0DEED', 'profile_sidebar_fill_color': 'DDEEF6', 'profile_text_color': '333333', 'profile_use_background_image': True, 'has_extended_profile': True, 'default_profile': True, 'default_profile_image': False, 'following': False, 'follow_request_sent': False, 'notifications': False, 'translator_type': 'none'}, id=943023252770877440, id_str='943023252770877440', name='𝗔𝗷𝗷𝘂 🎭', screen_name='Itzz_Ajju', location='Maharashtra, India', description='Akshay Kumar Devotee 🙏|| Big Fan Of Kriti Sanon ❤️|| Chris Evans 🔥|| Crazy For Cricket & TMKOC 😍|| Team MI 💙\\n\\n#FanAccount', url=None, entities={'description': {'urls': []}}, protected=False, followers_count=1138, friends_count=881, listed_count=0, created_at=datetime.datetime(2017, 12, 19, 7, 40, 38), favourites_count=34466, utc_offset=None, time_zone=None, geo_enabled=True, verified=False, statuses_count=89495, lang=None, contributors_enabled=False, is_translator=False, is_translation_enabled=False, profile_background_color='F5F8FA', profile_background_image_url=None, profile_background_image_url_https=None, profile_background_tile=False, profile_image_url='http://pbs.twimg.com/profile_images/1314629711054532611/ZJGZg4bO_normal.jpg', profile_image_url_https='https://pbs.twimg.com/profile_images/1314629711054532611/ZJGZg4bO_normal.jpg', profile_banner_url='https://pbs.twimg.com/profile_banners/943023252770877440/1598210728', profile_link_color='1DA1F2', profile_sidebar_border_color='C0DEED', profile_sidebar_fill_color='DDEEF6', profile_text_color='333333', profile_use_background_image=True, has_extended_profile=True, default_profile=True, default_profile_image=False, following=False, follow_request_sent=False, notifications=False, translator_type='none'), user=User(_api=<tweepy.api.API object at 0x000001D5154911F0>, _json={'id': 943023252770877440, 'id_str': '943023252770877440', 'name': '𝗔𝗷𝗷𝘂 🎭', 'screen_name': 'Itzz_Ajju', 'location': 'Maharashtra, India', 'description': 'Akshay Kumar Devotee 🙏|| Big Fan Of Kriti Sanon ❤️|| Chris Evans 🔥|| Crazy For Cricket & TMKOC 😍|| Team MI 💙\\n\\n#FanAccount', 'url': None, 'entities': {'description': {'urls': []}}, 'protected': False, 'followers_count': 1138, 'friends_count': 881, 'listed_count': 0, 'created_at': 'Tue Dec 19 07:40:38 +0000 2017', 'favourites_count': 34466, 'utc_offset': None, 'time_zone': None, 'geo_enabled': True, 'verified': False, 'statuses_count': 89495, 'lang': None, 'contributors_enabled': False, 'is_translator': False, 'is_translation_enabled': False, 'profile_background_color': 'F5F8FA', 'profile_background_image_url': None, 'profile_background_image_url_https': None, 'profile_background_tile': False, 'profile_image_url': 'http://pbs.twimg.com/profile_images/1314629711054532611/ZJGZg4bO_normal.jpg', 'profile_image_url_https': 'https://pbs.twimg.com/profile_images/1314629711054532611/ZJGZg4bO_normal.jpg', 'profile_banner_url': 'https://pbs.twimg.com/profile_banners/943023252770877440/1598210728', 'profile_link_color': '1DA1F2', 'profile_sidebar_border_color': 'C0DEED', 'profile_sidebar_fill_color': 'DDEEF6', 'profile_text_color': '333333', 'profile_use_background_image': True, 'has_extended_profile': True, 'default_profile': True, 'default_profile_image': False, 'following': False, 'follow_request_sent': False, 'notifications': False, 'translator_type': 'none'}, id=943023252770877440, id_str='943023252770877440', name='𝗔𝗷𝗷𝘂 🎭', screen_name='Itzz_Ajju', location='Maharashtra, India', description='Akshay Kumar Devotee 🙏|| Big Fan Of Kriti Sanon ❤️|| Chris Evans 🔥|| Crazy For Cricket & TMKOC 😍|| Team MI 💙\\n\\n#FanAccount', url=None, entities={'description': {'urls': []}}, protected=False, followers_count=1138, friends_count=881, listed_count=0, created_at=datetime.datetime(2017, 12, 19, 7, 40, 38), favourites_count=34466, utc_offset=None, time_zone=None, geo_enabled=True, verified=False, statuses_count=89495, lang=None, contributors_enabled=False, is_translator=False, is_translation_enabled=False, profile_background_color='F5F8FA', profile_background_image_url=None, profile_background_image_url_https=None, profile_background_tile=False, profile_image_url='http://pbs.twimg.com/profile_images/1314629711054532611/ZJGZg4bO_normal.jpg', profile_image_url_https='https://pbs.twimg.com/profile_images/1314629711054532611/ZJGZg4bO_normal.jpg', profile_banner_url='https://pbs.twimg.com/profile_banners/943023252770877440/1598210728', profile_link_color='1DA1F2', profile_sidebar_border_color='C0DEED', profile_sidebar_fill_color='DDEEF6', profile_text_color='333333', profile_use_background_image=True, has_extended_profile=True, default_profile=True, default_profile_image=False, following=False, follow_request_sent=False, notifications=False, translator_type='none'), geo=None, coordinates=None, place=None, contributors=None, is_quote_status=False, retweet_count=0, favorite_count=0, favorited=False, retweeted=False, lang='en') \n",
      "\n",
      ".....................................\n",
      "\n",
      "Status(_api=<tweepy.api.API object at 0x000001D5154911F0>, _json={'created_at': 'Sat Oct 31 10:00:51 +0000 2020', 'id': 1322478633361969152, 'id_str': '1322478633361969152', 'full_text': '@mipaltan @IPL Ro winning trophies for our #OneFamily\\n\\n#MI', 'truncated': False, 'display_text_range': [15, 58], 'entities': {'hashtags': [{'text': 'OneFamily', 'indices': [43, 53]}, {'text': 'MI', 'indices': [55, 58]}], 'symbols': [], 'user_mentions': [{'screen_name': 'mipaltan', 'name': 'Mumbai Indians', 'id': 106345557, 'id_str': '106345557', 'indices': [0, 9]}, {'screen_name': 'IPL', 'name': 'IndianPremierLeague', 'id': 15639696, 'id_str': '15639696', 'indices': [10, 14]}], 'urls': []}, 'metadata': {'iso_language_code': 'en', 'result_type': 'recent'}, 'source': '<a href=\"https://mobile.twitter.com\" rel=\"nofollow\">Twitter Web App</a>', 'in_reply_to_status_id': 1322478385965101056, 'in_reply_to_status_id_str': '1322478385965101056', 'in_reply_to_user_id': 106345557, 'in_reply_to_user_id_str': '106345557', 'in_reply_to_screen_name': 'mipaltan', 'user': {'id': 1169977786422874114, 'id_str': '1169977786422874114', 'name': 'RO45 FAN', 'screen_name': 'forpspk2', 'location': '', 'description': \"In search of trustful people who doesn't cheat. @ImRo45 || @Pawankalyan || @mipaltan fan\", 'url': None, 'entities': {'description': {'urls': []}}, 'protected': False, 'followers_count': 49, 'friends_count': 193, 'listed_count': 0, 'created_at': 'Fri Sep 06 14:17:10 +0000 2019', 'favourites_count': 4891, 'utc_offset': None, 'time_zone': None, 'geo_enabled': False, 'verified': False, 'statuses_count': 9210, 'lang': None, 'contributors_enabled': False, 'is_translator': False, 'is_translation_enabled': False, 'profile_background_color': 'F5F8FA', 'profile_background_image_url': None, 'profile_background_image_url_https': None, 'profile_background_tile': False, 'profile_image_url': 'http://abs.twimg.com/sticky/default_profile_images/default_profile_normal.png', 'profile_image_url_https': 'https://abs.twimg.com/sticky/default_profile_images/default_profile_normal.png', 'profile_link_color': '1DA1F2', 'profile_sidebar_border_color': 'C0DEED', 'profile_sidebar_fill_color': 'DDEEF6', 'profile_text_color': '333333', 'profile_use_background_image': True, 'has_extended_profile': False, 'default_profile': True, 'default_profile_image': True, 'following': False, 'follow_request_sent': False, 'notifications': False, 'translator_type': 'none'}, 'geo': None, 'coordinates': None, 'place': None, 'contributors': None, 'is_quote_status': False, 'retweet_count': 0, 'favorite_count': 1, 'favorited': False, 'retweeted': False, 'lang': 'en'}, created_at=datetime.datetime(2020, 10, 31, 10, 0, 51), id=1322478633361969152, id_str='1322478633361969152', full_text='@mipaltan @IPL Ro winning trophies for our #OneFamily\\n\\n#MI', truncated=False, display_text_range=[15, 58], entities={'hashtags': [{'text': 'OneFamily', 'indices': [43, 53]}, {'text': 'MI', 'indices': [55, 58]}], 'symbols': [], 'user_mentions': [{'screen_name': 'mipaltan', 'name': 'Mumbai Indians', 'id': 106345557, 'id_str': '106345557', 'indices': [0, 9]}, {'screen_name': 'IPL', 'name': 'IndianPremierLeague', 'id': 15639696, 'id_str': '15639696', 'indices': [10, 14]}], 'urls': []}, metadata={'iso_language_code': 'en', 'result_type': 'recent'}, source='Twitter Web App', source_url='https://mobile.twitter.com', in_reply_to_status_id=1322478385965101056, in_reply_to_status_id_str='1322478385965101056', in_reply_to_user_id=106345557, in_reply_to_user_id_str='106345557', in_reply_to_screen_name='mipaltan', author=User(_api=<tweepy.api.API object at 0x000001D5154911F0>, _json={'id': 1169977786422874114, 'id_str': '1169977786422874114', 'name': 'RO45 FAN', 'screen_name': 'forpspk2', 'location': '', 'description': \"In search of trustful people who doesn't cheat. @ImRo45 || @Pawankalyan || @mipaltan fan\", 'url': None, 'entities': {'description': {'urls': []}}, 'protected': False, 'followers_count': 49, 'friends_count': 193, 'listed_count': 0, 'created_at': 'Fri Sep 06 14:17:10 +0000 2019', 'favourites_count': 4891, 'utc_offset': None, 'time_zone': None, 'geo_enabled': False, 'verified': False, 'statuses_count': 9210, 'lang': None, 'contributors_enabled': False, 'is_translator': False, 'is_translation_enabled': False, 'profile_background_color': 'F5F8FA', 'profile_background_image_url': None, 'profile_background_image_url_https': None, 'profile_background_tile': False, 'profile_image_url': 'http://abs.twimg.com/sticky/default_profile_images/default_profile_normal.png', 'profile_image_url_https': 'https://abs.twimg.com/sticky/default_profile_images/default_profile_normal.png', 'profile_link_color': '1DA1F2', 'profile_sidebar_border_color': 'C0DEED', 'profile_sidebar_fill_color': 'DDEEF6', 'profile_text_color': '333333', 'profile_use_background_image': True, 'has_extended_profile': False, 'default_profile': True, 'default_profile_image': True, 'following': False, 'follow_request_sent': False, 'notifications': False, 'translator_type': 'none'}, id=1169977786422874114, id_str='1169977786422874114', name='RO45 FAN', screen_name='forpspk2', location='', description=\"In search of trustful people who doesn't cheat. @ImRo45 || @Pawankalyan || @mipaltan fan\", url=None, entities={'description': {'urls': []}}, protected=False, followers_count=49, friends_count=193, listed_count=0, created_at=datetime.datetime(2019, 9, 6, 14, 17, 10), favourites_count=4891, utc_offset=None, time_zone=None, geo_enabled=False, verified=False, statuses_count=9210, lang=None, contributors_enabled=False, is_translator=False, is_translation_enabled=False, profile_background_color='F5F8FA', profile_background_image_url=None, profile_background_image_url_https=None, profile_background_tile=False, profile_image_url='http://abs.twimg.com/sticky/default_profile_images/default_profile_normal.png', profile_image_url_https='https://abs.twimg.com/sticky/default_profile_images/default_profile_normal.png', profile_link_color='1DA1F2', profile_sidebar_border_color='C0DEED', profile_sidebar_fill_color='DDEEF6', profile_text_color='333333', profile_use_background_image=True, has_extended_profile=False, default_profile=True, default_profile_image=True, following=False, follow_request_sent=False, notifications=False, translator_type='none'), user=User(_api=<tweepy.api.API object at 0x000001D5154911F0>, _json={'id': 1169977786422874114, 'id_str': '1169977786422874114', 'name': 'RO45 FAN', 'screen_name': 'forpspk2', 'location': '', 'description': \"In search of trustful people who doesn't cheat. @ImRo45 || @Pawankalyan || @mipaltan fan\", 'url': None, 'entities': {'description': {'urls': []}}, 'protected': False, 'followers_count': 49, 'friends_count': 193, 'listed_count': 0, 'created_at': 'Fri Sep 06 14:17:10 +0000 2019', 'favourites_count': 4891, 'utc_offset': None, 'time_zone': None, 'geo_enabled': False, 'verified': False, 'statuses_count': 9210, 'lang': None, 'contributors_enabled': False, 'is_translator': False, 'is_translation_enabled': False, 'profile_background_color': 'F5F8FA', 'profile_background_image_url': None, 'profile_background_image_url_https': None, 'profile_background_tile': False, 'profile_image_url': 'http://abs.twimg.com/sticky/default_profile_images/default_profile_normal.png', 'profile_image_url_https': 'https://abs.twimg.com/sticky/default_profile_images/default_profile_normal.png', 'profile_link_color': '1DA1F2', 'profile_sidebar_border_color': 'C0DEED', 'profile_sidebar_fill_color': 'DDEEF6', 'profile_text_color': '333333', 'profile_use_background_image': True, 'has_extended_profile': False, 'default_profile': True, 'default_profile_image': True, 'following': False, 'follow_request_sent': False, 'notifications': False, 'translator_type': 'none'}, id=1169977786422874114, id_str='1169977786422874114', name='RO45 FAN', screen_name='forpspk2', location='', description=\"In search of trustful people who doesn't cheat. @ImRo45 || @Pawankalyan || @mipaltan fan\", url=None, entities={'description': {'urls': []}}, protected=False, followers_count=49, friends_count=193, listed_count=0, created_at=datetime.datetime(2019, 9, 6, 14, 17, 10), favourites_count=4891, utc_offset=None, time_zone=None, geo_enabled=False, verified=False, statuses_count=9210, lang=None, contributors_enabled=False, is_translator=False, is_translation_enabled=False, profile_background_color='F5F8FA', profile_background_image_url=None, profile_background_image_url_https=None, profile_background_tile=False, profile_image_url='http://abs.twimg.com/sticky/default_profile_images/default_profile_normal.png', profile_image_url_https='https://abs.twimg.com/sticky/default_profile_images/default_profile_normal.png', profile_link_color='1DA1F2', profile_sidebar_border_color='C0DEED', profile_sidebar_fill_color='DDEEF6', profile_text_color='333333', profile_use_background_image=True, has_extended_profile=False, default_profile=True, default_profile_image=True, following=False, follow_request_sent=False, notifications=False, translator_type='none'), geo=None, coordinates=None, place=None, contributors=None, is_quote_status=False, retweet_count=0, favorite_count=1, favorited=False, retweeted=False, lang='en') \n",
      "\n",
      ".....................................\n",
      "\n",
      "Status(_api=<tweepy.api.API object at 0x000001D5154911F0>, _json={'created_at': 'Sat Oct 31 09:48:48 +0000 2020', 'id': 1322475599974334466, 'id_str': '1322475599974334466', 'full_text': 'It’s two heavyweights up against each other today at the Dubai International Stadium. The two teams have faced each other 25 times in the IPL so far, and MI has dominated the fixture by winning it 13 times. Will DC stop them from getting to a 14th? @DelhiCapitals @mipaltan https://t.co/okpPwZdIvH', 'truncated': False, 'display_text_range': [0, 273], 'entities': {'hashtags': [], 'symbols': [], 'user_mentions': [{'screen_name': 'DelhiCapitals', 'name': 'Delhi Capitals (Tweeting from 🇦🇪)', 'id': 176888549, 'id_str': '176888549', 'indices': [249, 263]}, {'screen_name': 'mipaltan', 'name': 'Mumbai Indians', 'id': 106345557, 'id_str': '106345557', 'indices': [264, 273]}], 'urls': [], 'media': [{'id': 1322475591464112128, 'id_str': '1322475591464112128', 'indices': [274, 297], 'media_url': 'http://pbs.twimg.com/media/Elpgiy1X0AAJVKJ.jpg', 'media_url_https': 'https://pbs.twimg.com/media/Elpgiy1X0AAJVKJ.jpg', 'url': 'https://t.co/okpPwZdIvH', 'display_url': 'pic.twitter.com/okpPwZdIvH', 'expanded_url': 'https://twitter.com/DubaiStadium/status/1322475599974334466/photo/1', 'type': 'photo', 'sizes': {'thumb': {'w': 150, 'h': 150, 'resize': 'crop'}, 'medium': {'w': 1080, 'h': 1080, 'resize': 'fit'}, 'large': {'w': 1080, 'h': 1080, 'resize': 'fit'}, 'small': {'w': 680, 'h': 680, 'resize': 'fit'}}}]}, 'extended_entities': {'media': [{'id': 1322475591464112128, 'id_str': '1322475591464112128', 'indices': [274, 297], 'media_url': 'http://pbs.twimg.com/media/Elpgiy1X0AAJVKJ.jpg', 'media_url_https': 'https://pbs.twimg.com/media/Elpgiy1X0AAJVKJ.jpg', 'url': 'https://t.co/okpPwZdIvH', 'display_url': 'pic.twitter.com/okpPwZdIvH', 'expanded_url': 'https://twitter.com/DubaiStadium/status/1322475599974334466/photo/1', 'type': 'photo', 'sizes': {'thumb': {'w': 150, 'h': 150, 'resize': 'crop'}, 'medium': {'w': 1080, 'h': 1080, 'resize': 'fit'}, 'large': {'w': 1080, 'h': 1080, 'resize': 'fit'}, 'small': {'w': 680, 'h': 680, 'resize': 'fit'}}}]}, 'metadata': {'iso_language_code': 'en', 'result_type': 'recent'}, 'source': '<a href=\"http://twitter.com/download/iphone\" rel=\"nofollow\">Twitter for iPhone</a>', 'in_reply_to_status_id': None, 'in_reply_to_status_id_str': None, 'in_reply_to_user_id': None, 'in_reply_to_user_id_str': None, 'in_reply_to_screen_name': None, 'user': {'id': 1165683409, 'id_str': '1165683409', 'name': 'Dubai International Stadium', 'screen_name': 'DubaiStadium', 'location': 'Dubai', 'description': 'Official Twitter Account of Dubai International Stadium. Sports and Events. Follow us for the latest action update.', 'url': 'https://t.co/7H9EqPaCgT', 'entities': {'url': {'urls': [{'url': 'https://t.co/7H9EqPaCgT', 'expanded_url': 'https://www.dsc.ae', 'display_url': 'dsc.ae', 'indices': [0, 23]}]}, 'description': {'urls': []}}, 'protected': False, 'followers_count': 2432, 'friends_count': 399, 'listed_count': 11, 'created_at': 'Sun Feb 10 11:38:34 +0000 2013', 'favourites_count': 116, 'utc_offset': None, 'time_zone': None, 'geo_enabled': True, 'verified': False, 'statuses_count': 2506, 'lang': None, 'contributors_enabled': False, 'is_translator': False, 'is_translation_enabled': False, 'profile_background_color': '111314', 'profile_background_image_url': 'http://abs.twimg.com/images/themes/theme1/bg.png', 'profile_background_image_url_https': 'https://abs.twimg.com/images/themes/theme1/bg.png', 'profile_background_tile': False, 'profile_image_url': 'http://pbs.twimg.com/profile_images/1308663762015133697/4eJUOqqh_normal.jpg', 'profile_image_url_https': 'https://pbs.twimg.com/profile_images/1308663762015133697/4eJUOqqh_normal.jpg', 'profile_banner_url': 'https://pbs.twimg.com/profile_banners/1165683409/1554106912', 'profile_link_color': '151C1F', 'profile_sidebar_border_color': '000000', 'profile_sidebar_fill_color': 'DDEEF6', 'profile_text_color': '333333', 'profile_use_background_image': True, 'has_extended_profile': False, 'default_profile': False, 'default_profile_image': False, 'following': False, 'follow_request_sent': False, 'notifications': False, 'translator_type': 'none'}, 'geo': None, 'coordinates': None, 'place': None, 'contributors': None, 'is_quote_status': False, 'retweet_count': 1, 'favorite_count': 2, 'favorited': False, 'retweeted': False, 'possibly_sensitive': False, 'lang': 'en'}, created_at=datetime.datetime(2020, 10, 31, 9, 48, 48), id=1322475599974334466, id_str='1322475599974334466', full_text='It’s two heavyweights up against each other today at the Dubai International Stadium. The two teams have faced each other 25 times in the IPL so far, and MI has dominated the fixture by winning it 13 times. Will DC stop them from getting to a 14th? @DelhiCapitals @mipaltan https://t.co/okpPwZdIvH', truncated=False, display_text_range=[0, 273], entities={'hashtags': [], 'symbols': [], 'user_mentions': [{'screen_name': 'DelhiCapitals', 'name': 'Delhi Capitals (Tweeting from 🇦🇪)', 'id': 176888549, 'id_str': '176888549', 'indices': [249, 263]}, {'screen_name': 'mipaltan', 'name': 'Mumbai Indians', 'id': 106345557, 'id_str': '106345557', 'indices': [264, 273]}], 'urls': [], 'media': [{'id': 1322475591464112128, 'id_str': '1322475591464112128', 'indices': [274, 297], 'media_url': 'http://pbs.twimg.com/media/Elpgiy1X0AAJVKJ.jpg', 'media_url_https': 'https://pbs.twimg.com/media/Elpgiy1X0AAJVKJ.jpg', 'url': 'https://t.co/okpPwZdIvH', 'display_url': 'pic.twitter.com/okpPwZdIvH', 'expanded_url': 'https://twitter.com/DubaiStadium/status/1322475599974334466/photo/1', 'type': 'photo', 'sizes': {'thumb': {'w': 150, 'h': 150, 'resize': 'crop'}, 'medium': {'w': 1080, 'h': 1080, 'resize': 'fit'}, 'large': {'w': 1080, 'h': 1080, 'resize': 'fit'}, 'small': {'w': 680, 'h': 680, 'resize': 'fit'}}}]}, extended_entities={'media': [{'id': 1322475591464112128, 'id_str': '1322475591464112128', 'indices': [274, 297], 'media_url': 'http://pbs.twimg.com/media/Elpgiy1X0AAJVKJ.jpg', 'media_url_https': 'https://pbs.twimg.com/media/Elpgiy1X0AAJVKJ.jpg', 'url': 'https://t.co/okpPwZdIvH', 'display_url': 'pic.twitter.com/okpPwZdIvH', 'expanded_url': 'https://twitter.com/DubaiStadium/status/1322475599974334466/photo/1', 'type': 'photo', 'sizes': {'thumb': {'w': 150, 'h': 150, 'resize': 'crop'}, 'medium': {'w': 1080, 'h': 1080, 'resize': 'fit'}, 'large': {'w': 1080, 'h': 1080, 'resize': 'fit'}, 'small': {'w': 680, 'h': 680, 'resize': 'fit'}}}]}, metadata={'iso_language_code': 'en', 'result_type': 'recent'}, source='Twitter for iPhone', source_url='http://twitter.com/download/iphone', in_reply_to_status_id=None, in_reply_to_status_id_str=None, in_reply_to_user_id=None, in_reply_to_user_id_str=None, in_reply_to_screen_name=None, author=User(_api=<tweepy.api.API object at 0x000001D5154911F0>, _json={'id': 1165683409, 'id_str': '1165683409', 'name': 'Dubai International Stadium', 'screen_name': 'DubaiStadium', 'location': 'Dubai', 'description': 'Official Twitter Account of Dubai International Stadium. Sports and Events. Follow us for the latest action update.', 'url': 'https://t.co/7H9EqPaCgT', 'entities': {'url': {'urls': [{'url': 'https://t.co/7H9EqPaCgT', 'expanded_url': 'https://www.dsc.ae', 'display_url': 'dsc.ae', 'indices': [0, 23]}]}, 'description': {'urls': []}}, 'protected': False, 'followers_count': 2432, 'friends_count': 399, 'listed_count': 11, 'created_at': 'Sun Feb 10 11:38:34 +0000 2013', 'favourites_count': 116, 'utc_offset': None, 'time_zone': None, 'geo_enabled': True, 'verified': False, 'statuses_count': 2506, 'lang': None, 'contributors_enabled': False, 'is_translator': False, 'is_translation_enabled': False, 'profile_background_color': '111314', 'profile_background_image_url': 'http://abs.twimg.com/images/themes/theme1/bg.png', 'profile_background_image_url_https': 'https://abs.twimg.com/images/themes/theme1/bg.png', 'profile_background_tile': False, 'profile_image_url': 'http://pbs.twimg.com/profile_images/1308663762015133697/4eJUOqqh_normal.jpg', 'profile_image_url_https': 'https://pbs.twimg.com/profile_images/1308663762015133697/4eJUOqqh_normal.jpg', 'profile_banner_url': 'https://pbs.twimg.com/profile_banners/1165683409/1554106912', 'profile_link_color': '151C1F', 'profile_sidebar_border_color': '000000', 'profile_sidebar_fill_color': 'DDEEF6', 'profile_text_color': '333333', 'profile_use_background_image': True, 'has_extended_profile': False, 'default_profile': False, 'default_profile_image': False, 'following': False, 'follow_request_sent': False, 'notifications': False, 'translator_type': 'none'}, id=1165683409, id_str='1165683409', name='Dubai International Stadium', screen_name='DubaiStadium', location='Dubai', description='Official Twitter Account of Dubai International Stadium. Sports and Events. Follow us for the latest action update.', url='https://t.co/7H9EqPaCgT', entities={'url': {'urls': [{'url': 'https://t.co/7H9EqPaCgT', 'expanded_url': 'https://www.dsc.ae', 'display_url': 'dsc.ae', 'indices': [0, 23]}]}, 'description': {'urls': []}}, protected=False, followers_count=2432, friends_count=399, listed_count=11, created_at=datetime.datetime(2013, 2, 10, 11, 38, 34), favourites_count=116, utc_offset=None, time_zone=None, geo_enabled=True, verified=False, statuses_count=2506, lang=None, contributors_enabled=False, is_translator=False, is_translation_enabled=False, profile_background_color='111314', profile_background_image_url='http://abs.twimg.com/images/themes/theme1/bg.png', profile_background_image_url_https='https://abs.twimg.com/images/themes/theme1/bg.png', profile_background_tile=False, profile_image_url='http://pbs.twimg.com/profile_images/1308663762015133697/4eJUOqqh_normal.jpg', profile_image_url_https='https://pbs.twimg.com/profile_images/1308663762015133697/4eJUOqqh_normal.jpg', profile_banner_url='https://pbs.twimg.com/profile_banners/1165683409/1554106912', profile_link_color='151C1F', profile_sidebar_border_color='000000', profile_sidebar_fill_color='DDEEF6', profile_text_color='333333', profile_use_background_image=True, has_extended_profile=False, default_profile=False, default_profile_image=False, following=False, follow_request_sent=False, notifications=False, translator_type='none'), user=User(_api=<tweepy.api.API object at 0x000001D5154911F0>, _json={'id': 1165683409, 'id_str': '1165683409', 'name': 'Dubai International Stadium', 'screen_name': 'DubaiStadium', 'location': 'Dubai', 'description': 'Official Twitter Account of Dubai International Stadium. Sports and Events. Follow us for the latest action update.', 'url': 'https://t.co/7H9EqPaCgT', 'entities': {'url': {'urls': [{'url': 'https://t.co/7H9EqPaCgT', 'expanded_url': 'https://www.dsc.ae', 'display_url': 'dsc.ae', 'indices': [0, 23]}]}, 'description': {'urls': []}}, 'protected': False, 'followers_count': 2432, 'friends_count': 399, 'listed_count': 11, 'created_at': 'Sun Feb 10 11:38:34 +0000 2013', 'favourites_count': 116, 'utc_offset': None, 'time_zone': None, 'geo_enabled': True, 'verified': False, 'statuses_count': 2506, 'lang': None, 'contributors_enabled': False, 'is_translator': False, 'is_translation_enabled': False, 'profile_background_color': '111314', 'profile_background_image_url': 'http://abs.twimg.com/images/themes/theme1/bg.png', 'profile_background_image_url_https': 'https://abs.twimg.com/images/themes/theme1/bg.png', 'profile_background_tile': False, 'profile_image_url': 'http://pbs.twimg.com/profile_images/1308663762015133697/4eJUOqqh_normal.jpg', 'profile_image_url_https': 'https://pbs.twimg.com/profile_images/1308663762015133697/4eJUOqqh_normal.jpg', 'profile_banner_url': 'https://pbs.twimg.com/profile_banners/1165683409/1554106912', 'profile_link_color': '151C1F', 'profile_sidebar_border_color': '000000', 'profile_sidebar_fill_color': 'DDEEF6', 'profile_text_color': '333333', 'profile_use_background_image': True, 'has_extended_profile': False, 'default_profile': False, 'default_profile_image': False, 'following': False, 'follow_request_sent': False, 'notifications': False, 'translator_type': 'none'}, id=1165683409, id_str='1165683409', name='Dubai International Stadium', screen_name='DubaiStadium', location='Dubai', description='Official Twitter Account of Dubai International Stadium. Sports and Events. Follow us for the latest action update.', url='https://t.co/7H9EqPaCgT', entities={'url': {'urls': [{'url': 'https://t.co/7H9EqPaCgT', 'expanded_url': 'https://www.dsc.ae', 'display_url': 'dsc.ae', 'indices': [0, 23]}]}, 'description': {'urls': []}}, protected=False, followers_count=2432, friends_count=399, listed_count=11, created_at=datetime.datetime(2013, 2, 10, 11, 38, 34), favourites_count=116, utc_offset=None, time_zone=None, geo_enabled=True, verified=False, statuses_count=2506, lang=None, contributors_enabled=False, is_translator=False, is_translation_enabled=False, profile_background_color='111314', profile_background_image_url='http://abs.twimg.com/images/themes/theme1/bg.png', profile_background_image_url_https='https://abs.twimg.com/images/themes/theme1/bg.png', profile_background_tile=False, profile_image_url='http://pbs.twimg.com/profile_images/1308663762015133697/4eJUOqqh_normal.jpg', profile_image_url_https='https://pbs.twimg.com/profile_images/1308663762015133697/4eJUOqqh_normal.jpg', profile_banner_url='https://pbs.twimg.com/profile_banners/1165683409/1554106912', profile_link_color='151C1F', profile_sidebar_border_color='000000', profile_sidebar_fill_color='DDEEF6', profile_text_color='333333', profile_use_background_image=True, has_extended_profile=False, default_profile=False, default_profile_image=False, following=False, follow_request_sent=False, notifications=False, translator_type='none'), geo=None, coordinates=None, place=None, contributors=None, is_quote_status=False, retweet_count=1, favorite_count=2, favorited=False, retweeted=False, possibly_sensitive=False, lang='en') \n",
      "\n",
      ".....................................\n",
      "\n",
      "Status(_api=<tweepy.api.API object at 0x000001D5154911F0>, _json={'created_at': 'Sat Oct 31 09:47:25 +0000 2020', 'id': 1322475254795497472, 'id_str': '1322475254795497472', 'full_text': '#MIvsDC #IPL2020 #DCvsMI\\n\\nMatch 51, DC vs MI |\\n\\nMI bowl first, rest Hardik; Shaw back for DC\\n\\nFollow live:\\n\\nhttps://t.co/LjJju2zeZ7', 'truncated': False, 'display_text_range': [0, 131], 'entities': {'hashtags': [{'text': 'MIvsDC', 'indices': [0, 7]}, {'text': 'IPL2020', 'indices': [8, 16]}, {'text': 'DCvsMI', 'indices': [17, 24]}], 'symbols': [], 'user_mentions': [], 'urls': [{'url': 'https://t.co/LjJju2zeZ7', 'expanded_url': 'https://www.timesnownews.com/sports/cricket/article/delhi-capitals-vs-mumbai-indians-ipl-2020-live-score-and-updates-dc-aim-to-return-to-winning-ways/675443', 'display_url': 'timesnownews.com/sports/cricket…', 'indices': [108, 131]}]}, 'metadata': {'iso_language_code': 'en', 'result_type': 'recent'}, 'source': '<a href=\"https://mobile.twitter.com\" rel=\"nofollow\">Twitter Web App</a>', 'in_reply_to_status_id': None, 'in_reply_to_status_id_str': None, 'in_reply_to_user_id': None, 'in_reply_to_user_id_str': None, 'in_reply_to_screen_name': None, 'user': {'id': 981434972270743555, 'id_str': '981434972270743555', 'name': 'Times Now Sports', 'screen_name': 'timesnowsports', 'location': '', 'description': 'Your one-stop destination for sports news from across the globe. Follow for all latest updates related to Cricket, Football, Badminton, Tennis and other sports.', 'url': None, 'entities': {'description': {'urls': []}}, 'protected': False, 'followers_count': 6597, 'friends_count': 97, 'listed_count': 31, 'created_at': 'Wed Apr 04 07:35:06 +0000 2018', 'favourites_count': 11, 'utc_offset': None, 'time_zone': None, 'geo_enabled': False, 'verified': True, 'statuses_count': 24847, 'lang': None, 'contributors_enabled': False, 'is_translator': False, 'is_translation_enabled': False, 'profile_background_color': 'F5F8FA', 'profile_background_image_url': None, 'profile_background_image_url_https': None, 'profile_background_tile': False, 'profile_image_url': 'http://pbs.twimg.com/profile_images/981435345639264257/YbHh87ck_normal.jpg', 'profile_image_url_https': 'https://pbs.twimg.com/profile_images/981435345639264257/YbHh87ck_normal.jpg', 'profile_banner_url': 'https://pbs.twimg.com/profile_banners/981434972270743555/1600515000', 'profile_link_color': '1DA1F2', 'profile_sidebar_border_color': 'C0DEED', 'profile_sidebar_fill_color': 'DDEEF6', 'profile_text_color': '333333', 'profile_use_background_image': True, 'has_extended_profile': False, 'default_profile': True, 'default_profile_image': False, 'following': False, 'follow_request_sent': False, 'notifications': False, 'translator_type': 'none'}, 'geo': None, 'coordinates': None, 'place': None, 'contributors': None, 'is_quote_status': False, 'retweet_count': 2, 'favorite_count': 5, 'favorited': False, 'retweeted': False, 'possibly_sensitive': False, 'lang': 'en'}, created_at=datetime.datetime(2020, 10, 31, 9, 47, 25), id=1322475254795497472, id_str='1322475254795497472', full_text='#MIvsDC #IPL2020 #DCvsMI\\n\\nMatch 51, DC vs MI |\\n\\nMI bowl first, rest Hardik; Shaw back for DC\\n\\nFollow live:\\n\\nhttps://t.co/LjJju2zeZ7', truncated=False, display_text_range=[0, 131], entities={'hashtags': [{'text': 'MIvsDC', 'indices': [0, 7]}, {'text': 'IPL2020', 'indices': [8, 16]}, {'text': 'DCvsMI', 'indices': [17, 24]}], 'symbols': [], 'user_mentions': [], 'urls': [{'url': 'https://t.co/LjJju2zeZ7', 'expanded_url': 'https://www.timesnownews.com/sports/cricket/article/delhi-capitals-vs-mumbai-indians-ipl-2020-live-score-and-updates-dc-aim-to-return-to-winning-ways/675443', 'display_url': 'timesnownews.com/sports/cricket…', 'indices': [108, 131]}]}, metadata={'iso_language_code': 'en', 'result_type': 'recent'}, source='Twitter Web App', source_url='https://mobile.twitter.com', in_reply_to_status_id=None, in_reply_to_status_id_str=None, in_reply_to_user_id=None, in_reply_to_user_id_str=None, in_reply_to_screen_name=None, author=User(_api=<tweepy.api.API object at 0x000001D5154911F0>, _json={'id': 981434972270743555, 'id_str': '981434972270743555', 'name': 'Times Now Sports', 'screen_name': 'timesnowsports', 'location': '', 'description': 'Your one-stop destination for sports news from across the globe. Follow for all latest updates related to Cricket, Football, Badminton, Tennis and other sports.', 'url': None, 'entities': {'description': {'urls': []}}, 'protected': False, 'followers_count': 6597, 'friends_count': 97, 'listed_count': 31, 'created_at': 'Wed Apr 04 07:35:06 +0000 2018', 'favourites_count': 11, 'utc_offset': None, 'time_zone': None, 'geo_enabled': False, 'verified': True, 'statuses_count': 24847, 'lang': None, 'contributors_enabled': False, 'is_translator': False, 'is_translation_enabled': False, 'profile_background_color': 'F5F8FA', 'profile_background_image_url': None, 'profile_background_image_url_https': None, 'profile_background_tile': False, 'profile_image_url': 'http://pbs.twimg.com/profile_images/981435345639264257/YbHh87ck_normal.jpg', 'profile_image_url_https': 'https://pbs.twimg.com/profile_images/981435345639264257/YbHh87ck_normal.jpg', 'profile_banner_url': 'https://pbs.twimg.com/profile_banners/981434972270743555/1600515000', 'profile_link_color': '1DA1F2', 'profile_sidebar_border_color': 'C0DEED', 'profile_sidebar_fill_color': 'DDEEF6', 'profile_text_color': '333333', 'profile_use_background_image': True, 'has_extended_profile': False, 'default_profile': True, 'default_profile_image': False, 'following': False, 'follow_request_sent': False, 'notifications': False, 'translator_type': 'none'}, id=981434972270743555, id_str='981434972270743555', name='Times Now Sports', screen_name='timesnowsports', location='', description='Your one-stop destination for sports news from across the globe. Follow for all latest updates related to Cricket, Football, Badminton, Tennis and other sports.', url=None, entities={'description': {'urls': []}}, protected=False, followers_count=6597, friends_count=97, listed_count=31, created_at=datetime.datetime(2018, 4, 4, 7, 35, 6), favourites_count=11, utc_offset=None, time_zone=None, geo_enabled=False, verified=True, statuses_count=24847, lang=None, contributors_enabled=False, is_translator=False, is_translation_enabled=False, profile_background_color='F5F8FA', profile_background_image_url=None, profile_background_image_url_https=None, profile_background_tile=False, profile_image_url='http://pbs.twimg.com/profile_images/981435345639264257/YbHh87ck_normal.jpg', profile_image_url_https='https://pbs.twimg.com/profile_images/981435345639264257/YbHh87ck_normal.jpg', profile_banner_url='https://pbs.twimg.com/profile_banners/981434972270743555/1600515000', profile_link_color='1DA1F2', profile_sidebar_border_color='C0DEED', profile_sidebar_fill_color='DDEEF6', profile_text_color='333333', profile_use_background_image=True, has_extended_profile=False, default_profile=True, default_profile_image=False, following=False, follow_request_sent=False, notifications=False, translator_type='none'), user=User(_api=<tweepy.api.API object at 0x000001D5154911F0>, _json={'id': 981434972270743555, 'id_str': '981434972270743555', 'name': 'Times Now Sports', 'screen_name': 'timesnowsports', 'location': '', 'description': 'Your one-stop destination for sports news from across the globe. Follow for all latest updates related to Cricket, Football, Badminton, Tennis and other sports.', 'url': None, 'entities': {'description': {'urls': []}}, 'protected': False, 'followers_count': 6597, 'friends_count': 97, 'listed_count': 31, 'created_at': 'Wed Apr 04 07:35:06 +0000 2018', 'favourites_count': 11, 'utc_offset': None, 'time_zone': None, 'geo_enabled': False, 'verified': True, 'statuses_count': 24847, 'lang': None, 'contributors_enabled': False, 'is_translator': False, 'is_translation_enabled': False, 'profile_background_color': 'F5F8FA', 'profile_background_image_url': None, 'profile_background_image_url_https': None, 'profile_background_tile': False, 'profile_image_url': 'http://pbs.twimg.com/profile_images/981435345639264257/YbHh87ck_normal.jpg', 'profile_image_url_https': 'https://pbs.twimg.com/profile_images/981435345639264257/YbHh87ck_normal.jpg', 'profile_banner_url': 'https://pbs.twimg.com/profile_banners/981434972270743555/1600515000', 'profile_link_color': '1DA1F2', 'profile_sidebar_border_color': 'C0DEED', 'profile_sidebar_fill_color': 'DDEEF6', 'profile_text_color': '333333', 'profile_use_background_image': True, 'has_extended_profile': False, 'default_profile': True, 'default_profile_image': False, 'following': False, 'follow_request_sent': False, 'notifications': False, 'translator_type': 'none'}, id=981434972270743555, id_str='981434972270743555', name='Times Now Sports', screen_name='timesnowsports', location='', description='Your one-stop destination for sports news from across the globe. Follow for all latest updates related to Cricket, Football, Badminton, Tennis and other sports.', url=None, entities={'description': {'urls': []}}, protected=False, followers_count=6597, friends_count=97, listed_count=31, created_at=datetime.datetime(2018, 4, 4, 7, 35, 6), favourites_count=11, utc_offset=None, time_zone=None, geo_enabled=False, verified=True, statuses_count=24847, lang=None, contributors_enabled=False, is_translator=False, is_translation_enabled=False, profile_background_color='F5F8FA', profile_background_image_url=None, profile_background_image_url_https=None, profile_background_tile=False, profile_image_url='http://pbs.twimg.com/profile_images/981435345639264257/YbHh87ck_normal.jpg', profile_image_url_https='https://pbs.twimg.com/profile_images/981435345639264257/YbHh87ck_normal.jpg', profile_banner_url='https://pbs.twimg.com/profile_banners/981434972270743555/1600515000', profile_link_color='1DA1F2', profile_sidebar_border_color='C0DEED', profile_sidebar_fill_color='DDEEF6', profile_text_color='333333', profile_use_background_image=True, has_extended_profile=False, default_profile=True, default_profile_image=False, following=False, follow_request_sent=False, notifications=False, translator_type='none'), geo=None, coordinates=None, place=None, contributors=None, is_quote_status=False, retweet_count=2, favorite_count=5, favorited=False, retweeted=False, possibly_sensitive=False, lang='en') \n",
      "\n",
      ".....................................\n",
      "\n",
      "Status(_api=<tweepy.api.API object at 0x000001D5154911F0>, _json={'created_at': 'Sat Oct 31 09:19:27 +0000 2020', 'id': 1322468214018768898, 'id_str': '1322468214018768898', 'full_text': 'Who is winning today #MI or #DC?\\nmy prediction goes for #DC\\n\\n#DCvsMI #MIvsDC  #MIvDC #IPL2020 #Dream11IPL #Dream11 #DC #MI  #IPLinUAE #IPL2020 #IPL #IPLT20 #MumbaiIndians  #IPL2020Updates', 'truncated': False, 'display_text_range': [0, 187], 'entities': {'hashtags': [{'text': 'MI', 'indices': [21, 24]}, {'text': 'DC', 'indices': [28, 31]}, {'text': 'DC', 'indices': [56, 59]}, {'text': 'DCvsMI', 'indices': [61, 68]}, {'text': 'MIvsDC', 'indices': [69, 76]}, {'text': 'MIvDC', 'indices': [78, 84]}, {'text': 'IPL2020', 'indices': [85, 93]}, {'text': 'Dream11IPL', 'indices': [94, 105]}, {'text': 'Dream11', 'indices': [106, 114]}, {'text': 'DC', 'indices': [115, 118]}, {'text': 'MI', 'indices': [119, 122]}, {'text': 'IPLinUAE', 'indices': [124, 133]}, {'text': 'IPL2020', 'indices': [134, 142]}, {'text': 'IPL', 'indices': [143, 147]}, {'text': 'IPLT20', 'indices': [148, 155]}, {'text': 'MumbaiIndians', 'indices': [156, 170]}, {'text': 'IPL2020Updates', 'indices': [172, 187]}], 'symbols': [], 'user_mentions': [], 'urls': []}, 'metadata': {'iso_language_code': 'en', 'result_type': 'recent'}, 'source': '<a href=\"https://mobile.twitter.com\" rel=\"nofollow\">Twitter Web App</a>', 'in_reply_to_status_id': None, 'in_reply_to_status_id_str': None, 'in_reply_to_user_id': None, 'in_reply_to_user_id_str': None, 'in_reply_to_screen_name': None, 'user': {'id': 214475652, 'id_str': '214475652', 'name': 'Manish Bhatt', 'screen_name': 'manishbhatt01', 'location': 'New Delhi, India', 'description': 'Tweets on Education, Politics & Sports.\\nA Proud Uttrakhandi.', 'url': None, 'entities': {'description': {'urls': []}}, 'protected': False, 'followers_count': 648, 'friends_count': 614, 'listed_count': 22, 'created_at': 'Thu Nov 11 14:03:00 +0000 2010', 'favourites_count': 39935, 'utc_offset': None, 'time_zone': None, 'geo_enabled': False, 'verified': False, 'statuses_count': 83220, 'lang': None, 'contributors_enabled': False, 'is_translator': False, 'is_translation_enabled': False, 'profile_background_color': '000000', 'profile_background_image_url': 'http://abs.twimg.com/images/themes/theme10/bg.gif', 'profile_background_image_url_https': 'https://abs.twimg.com/images/themes/theme10/bg.gif', 'profile_background_tile': False, 'profile_image_url': 'http://pbs.twimg.com/profile_images/1297410443711897606/Nsl-LKkK_normal.jpg', 'profile_image_url_https': 'https://pbs.twimg.com/profile_images/1297410443711897606/Nsl-LKkK_normal.jpg', 'profile_banner_url': 'https://pbs.twimg.com/profile_banners/214475652/1418465088', 'profile_link_color': 'E81C4F', 'profile_sidebar_border_color': '000000', 'profile_sidebar_fill_color': '000000', 'profile_text_color': '000000', 'profile_use_background_image': False, 'has_extended_profile': True, 'default_profile': False, 'default_profile_image': False, 'following': False, 'follow_request_sent': False, 'notifications': False, 'translator_type': 'none'}, 'geo': None, 'coordinates': None, 'place': None, 'contributors': None, 'is_quote_status': False, 'retweet_count': 0, 'favorite_count': 1, 'favorited': False, 'retweeted': False, 'lang': 'en'}, created_at=datetime.datetime(2020, 10, 31, 9, 19, 27), id=1322468214018768898, id_str='1322468214018768898', full_text='Who is winning today #MI or #DC?\\nmy prediction goes for #DC\\n\\n#DCvsMI #MIvsDC  #MIvDC #IPL2020 #Dream11IPL #Dream11 #DC #MI  #IPLinUAE #IPL2020 #IPL #IPLT20 #MumbaiIndians  #IPL2020Updates', truncated=False, display_text_range=[0, 187], entities={'hashtags': [{'text': 'MI', 'indices': [21, 24]}, {'text': 'DC', 'indices': [28, 31]}, {'text': 'DC', 'indices': [56, 59]}, {'text': 'DCvsMI', 'indices': [61, 68]}, {'text': 'MIvsDC', 'indices': [69, 76]}, {'text': 'MIvDC', 'indices': [78, 84]}, {'text': 'IPL2020', 'indices': [85, 93]}, {'text': 'Dream11IPL', 'indices': [94, 105]}, {'text': 'Dream11', 'indices': [106, 114]}, {'text': 'DC', 'indices': [115, 118]}, {'text': 'MI', 'indices': [119, 122]}, {'text': 'IPLinUAE', 'indices': [124, 133]}, {'text': 'IPL2020', 'indices': [134, 142]}, {'text': 'IPL', 'indices': [143, 147]}, {'text': 'IPLT20', 'indices': [148, 155]}, {'text': 'MumbaiIndians', 'indices': [156, 170]}, {'text': 'IPL2020Updates', 'indices': [172, 187]}], 'symbols': [], 'user_mentions': [], 'urls': []}, metadata={'iso_language_code': 'en', 'result_type': 'recent'}, source='Twitter Web App', source_url='https://mobile.twitter.com', in_reply_to_status_id=None, in_reply_to_status_id_str=None, in_reply_to_user_id=None, in_reply_to_user_id_str=None, in_reply_to_screen_name=None, author=User(_api=<tweepy.api.API object at 0x000001D5154911F0>, _json={'id': 214475652, 'id_str': '214475652', 'name': 'Manish Bhatt', 'screen_name': 'manishbhatt01', 'location': 'New Delhi, India', 'description': 'Tweets on Education, Politics & Sports.\\nA Proud Uttrakhandi.', 'url': None, 'entities': {'description': {'urls': []}}, 'protected': False, 'followers_count': 648, 'friends_count': 614, 'listed_count': 22, 'created_at': 'Thu Nov 11 14:03:00 +0000 2010', 'favourites_count': 39935, 'utc_offset': None, 'time_zone': None, 'geo_enabled': False, 'verified': False, 'statuses_count': 83220, 'lang': None, 'contributors_enabled': False, 'is_translator': False, 'is_translation_enabled': False, 'profile_background_color': '000000', 'profile_background_image_url': 'http://abs.twimg.com/images/themes/theme10/bg.gif', 'profile_background_image_url_https': 'https://abs.twimg.com/images/themes/theme10/bg.gif', 'profile_background_tile': False, 'profile_image_url': 'http://pbs.twimg.com/profile_images/1297410443711897606/Nsl-LKkK_normal.jpg', 'profile_image_url_https': 'https://pbs.twimg.com/profile_images/1297410443711897606/Nsl-LKkK_normal.jpg', 'profile_banner_url': 'https://pbs.twimg.com/profile_banners/214475652/1418465088', 'profile_link_color': 'E81C4F', 'profile_sidebar_border_color': '000000', 'profile_sidebar_fill_color': '000000', 'profile_text_color': '000000', 'profile_use_background_image': False, 'has_extended_profile': True, 'default_profile': False, 'default_profile_image': False, 'following': False, 'follow_request_sent': False, 'notifications': False, 'translator_type': 'none'}, id=214475652, id_str='214475652', name='Manish Bhatt', screen_name='manishbhatt01', location='New Delhi, India', description='Tweets on Education, Politics & Sports.\\nA Proud Uttrakhandi.', url=None, entities={'description': {'urls': []}}, protected=False, followers_count=648, friends_count=614, listed_count=22, created_at=datetime.datetime(2010, 11, 11, 14, 3), favourites_count=39935, utc_offset=None, time_zone=None, geo_enabled=False, verified=False, statuses_count=83220, lang=None, contributors_enabled=False, is_translator=False, is_translation_enabled=False, profile_background_color='000000', profile_background_image_url='http://abs.twimg.com/images/themes/theme10/bg.gif', profile_background_image_url_https='https://abs.twimg.com/images/themes/theme10/bg.gif', profile_background_tile=False, profile_image_url='http://pbs.twimg.com/profile_images/1297410443711897606/Nsl-LKkK_normal.jpg', profile_image_url_https='https://pbs.twimg.com/profile_images/1297410443711897606/Nsl-LKkK_normal.jpg', profile_banner_url='https://pbs.twimg.com/profile_banners/214475652/1418465088', profile_link_color='E81C4F', profile_sidebar_border_color='000000', profile_sidebar_fill_color='000000', profile_text_color='000000', profile_use_background_image=False, has_extended_profile=True, default_profile=False, default_profile_image=False, following=False, follow_request_sent=False, notifications=False, translator_type='none'), user=User(_api=<tweepy.api.API object at 0x000001D5154911F0>, _json={'id': 214475652, 'id_str': '214475652', 'name': 'Manish Bhatt', 'screen_name': 'manishbhatt01', 'location': 'New Delhi, India', 'description': 'Tweets on Education, Politics & Sports.\\nA Proud Uttrakhandi.', 'url': None, 'entities': {'description': {'urls': []}}, 'protected': False, 'followers_count': 648, 'friends_count': 614, 'listed_count': 22, 'created_at': 'Thu Nov 11 14:03:00 +0000 2010', 'favourites_count': 39935, 'utc_offset': None, 'time_zone': None, 'geo_enabled': False, 'verified': False, 'statuses_count': 83220, 'lang': None, 'contributors_enabled': False, 'is_translator': False, 'is_translation_enabled': False, 'profile_background_color': '000000', 'profile_background_image_url': 'http://abs.twimg.com/images/themes/theme10/bg.gif', 'profile_background_image_url_https': 'https://abs.twimg.com/images/themes/theme10/bg.gif', 'profile_background_tile': False, 'profile_image_url': 'http://pbs.twimg.com/profile_images/1297410443711897606/Nsl-LKkK_normal.jpg', 'profile_image_url_https': 'https://pbs.twimg.com/profile_images/1297410443711897606/Nsl-LKkK_normal.jpg', 'profile_banner_url': 'https://pbs.twimg.com/profile_banners/214475652/1418465088', 'profile_link_color': 'E81C4F', 'profile_sidebar_border_color': '000000', 'profile_sidebar_fill_color': '000000', 'profile_text_color': '000000', 'profile_use_background_image': False, 'has_extended_profile': True, 'default_profile': False, 'default_profile_image': False, 'following': False, 'follow_request_sent': False, 'notifications': False, 'translator_type': 'none'}, id=214475652, id_str='214475652', name='Manish Bhatt', screen_name='manishbhatt01', location='New Delhi, India', description='Tweets on Education, Politics & Sports.\\nA Proud Uttrakhandi.', url=None, entities={'description': {'urls': []}}, protected=False, followers_count=648, friends_count=614, listed_count=22, created_at=datetime.datetime(2010, 11, 11, 14, 3), favourites_count=39935, utc_offset=None, time_zone=None, geo_enabled=False, verified=False, statuses_count=83220, lang=None, contributors_enabled=False, is_translator=False, is_translation_enabled=False, profile_background_color='000000', profile_background_image_url='http://abs.twimg.com/images/themes/theme10/bg.gif', profile_background_image_url_https='https://abs.twimg.com/images/themes/theme10/bg.gif', profile_background_tile=False, profile_image_url='http://pbs.twimg.com/profile_images/1297410443711897606/Nsl-LKkK_normal.jpg', profile_image_url_https='https://pbs.twimg.com/profile_images/1297410443711897606/Nsl-LKkK_normal.jpg', profile_banner_url='https://pbs.twimg.com/profile_banners/214475652/1418465088', profile_link_color='E81C4F', profile_sidebar_border_color='000000', profile_sidebar_fill_color='000000', profile_text_color='000000', profile_use_background_image=False, has_extended_profile=True, default_profile=False, default_profile_image=False, following=False, follow_request_sent=False, notifications=False, translator_type='none'), geo=None, coordinates=None, place=None, contributors=None, is_quote_status=False, retweet_count=0, favorite_count=1, favorited=False, retweeted=False, lang='en') \n",
      "\n",
      ".....................................\n",
      "\n",
      "Status(_api=<tweepy.api.API object at 0x000001D5154911F0>, _json={'created_at': 'Sat Oct 31 09:01:38 +0000 2020', 'id': 1322463732040036352, 'id_str': '1322463732040036352', 'full_text': '100% Winning Team, Get Today Match Prediction Report By Us #DuniyaBoliLagayegi #KiaraAdvani #MIvsDC #DCvsMI #RCBvSRH #RCBvsSRH #पंचर_पुत्रम_कभी_न_मित्रम #पंचर_का_बच्चा_कभी_न_सच्चा #StatueOfDisplacement #IronMan #तिरंगा_मेरी_आन_भगवा_मेरी_शान #ipl #IPL2020 #IPLinUAE #dc #mi #iplfen https://t.co/tPHAeteVIq', 'truncated': False, 'display_text_range': [0, 280], 'entities': {'hashtags': [{'text': 'DuniyaBoliLagayegi', 'indices': [59, 78]}, {'text': 'KiaraAdvani', 'indices': [79, 91]}, {'text': 'MIvsDC', 'indices': [92, 99]}, {'text': 'DCvsMI', 'indices': [100, 107]}, {'text': 'RCBvSRH', 'indices': [108, 116]}, {'text': 'RCBvsSRH', 'indices': [117, 126]}, {'text': 'पंचर_पुत्रम_कभी_न_मित्रम', 'indices': [127, 152]}, {'text': 'पंचर_का_बच्चा_कभी_न_सच्चा', 'indices': [153, 179]}, {'text': 'StatueOfDisplacement', 'indices': [180, 201]}, {'text': 'IronMan', 'indices': [202, 210]}, {'text': 'तिरंगा_मेरी_आन_भगवा_मेरी_शान', 'indices': [211, 240]}, {'text': 'ipl', 'indices': [241, 245]}, {'text': 'IPL2020', 'indices': [246, 254]}, {'text': 'IPLinUAE', 'indices': [255, 264]}, {'text': 'dc', 'indices': [265, 268]}, {'text': 'mi', 'indices': [269, 272]}, {'text': 'iplfen', 'indices': [273, 280]}], 'symbols': [], 'user_mentions': [], 'urls': [], 'media': [{'id': 1322462661607518208, 'id_str': '1322462661607518208', 'indices': [281, 304], 'media_url': 'http://pbs.twimg.com/media/ElpUyLXVcAA-ao_.jpg', 'media_url_https': 'https://pbs.twimg.com/media/ElpUyLXVcAA-ao_.jpg', 'url': 'https://t.co/tPHAeteVIq', 'display_url': 'pic.twitter.com/tPHAeteVIq', 'expanded_url': 'https://twitter.com/VeenaPandit6/status/1322463732040036352/photo/1', 'type': 'photo', 'sizes': {'thumb': {'w': 150, 'h': 150, 'resize': 'crop'}, 'medium': {'w': 753, 'h': 452, 'resize': 'fit'}, 'large': {'w': 753, 'h': 452, 'resize': 'fit'}, 'small': {'w': 680, 'h': 408, 'resize': 'fit'}}}]}, 'extended_entities': {'media': [{'id': 1322462661607518208, 'id_str': '1322462661607518208', 'indices': [281, 304], 'media_url': 'http://pbs.twimg.com/media/ElpUyLXVcAA-ao_.jpg', 'media_url_https': 'https://pbs.twimg.com/media/ElpUyLXVcAA-ao_.jpg', 'url': 'https://t.co/tPHAeteVIq', 'display_url': 'pic.twitter.com/tPHAeteVIq', 'expanded_url': 'https://twitter.com/VeenaPandit6/status/1322463732040036352/photo/1', 'type': 'photo', 'sizes': {'thumb': {'w': 150, 'h': 150, 'resize': 'crop'}, 'medium': {'w': 753, 'h': 452, 'resize': 'fit'}, 'large': {'w': 753, 'h': 452, 'resize': 'fit'}, 'small': {'w': 680, 'h': 408, 'resize': 'fit'}}}]}, 'metadata': {'iso_language_code': 'en', 'result_type': 'recent'}, 'source': '<a href=\"https://mobile.twitter.com\" rel=\"nofollow\">Twitter Web App</a>', 'in_reply_to_status_id': None, 'in_reply_to_status_id_str': None, 'in_reply_to_user_id': None, 'in_reply_to_user_id_str': None, 'in_reply_to_screen_name': None, 'user': {'id': 1225005552050130944, 'id_str': '1225005552050130944', 'name': 'Veena', 'screen_name': 'VeenaPandit6', 'location': 'Jaipur', 'description': 'A.R is known as the Best Cricket Predictor in India with his excellent 16 Years of accurate experience in Cricket Prediction & IPL Matches, Book now: 9358543999', 'url': 'https://t.co/P2V4QakDEx', 'entities': {'url': {'urls': [{'url': 'https://t.co/P2V4QakDEx', 'expanded_url': 'http://bit.ly/3970k87', 'display_url': 'bit.ly/3970k87', 'indices': [0, 23]}]}, 'description': {'urls': []}}, 'protected': False, 'followers_count': 8, 'friends_count': 1, 'listed_count': 0, 'created_at': 'Wed Feb 05 10:37:49 +0000 2020', 'favourites_count': 2, 'utc_offset': None, 'time_zone': None, 'geo_enabled': False, 'verified': False, 'statuses_count': 66, 'lang': None, 'contributors_enabled': False, 'is_translator': False, 'is_translation_enabled': False, 'profile_background_color': 'F5F8FA', 'profile_background_image_url': None, 'profile_background_image_url_https': None, 'profile_background_tile': False, 'profile_image_url': 'http://pbs.twimg.com/profile_images/1225005717314162690/KlEJr6lr_normal.jpg', 'profile_image_url_https': 'https://pbs.twimg.com/profile_images/1225005717314162690/KlEJr6lr_normal.jpg', 'profile_banner_url': 'https://pbs.twimg.com/profile_banners/1225005552050130944/1580899991', 'profile_link_color': '1DA1F2', 'profile_sidebar_border_color': 'C0DEED', 'profile_sidebar_fill_color': 'DDEEF6', 'profile_text_color': '333333', 'profile_use_background_image': True, 'has_extended_profile': True, 'default_profile': True, 'default_profile_image': False, 'following': False, 'follow_request_sent': False, 'notifications': False, 'translator_type': 'none'}, 'geo': None, 'coordinates': None, 'place': None, 'contributors': None, 'is_quote_status': False, 'retweet_count': 0, 'favorite_count': 0, 'favorited': False, 'retweeted': False, 'possibly_sensitive': False, 'lang': 'en'}, created_at=datetime.datetime(2020, 10, 31, 9, 1, 38), id=1322463732040036352, id_str='1322463732040036352', full_text='100% Winning Team, Get Today Match Prediction Report By Us #DuniyaBoliLagayegi #KiaraAdvani #MIvsDC #DCvsMI #RCBvSRH #RCBvsSRH #पंचर_पुत्रम_कभी_न_मित्रम #पंचर_का_बच्चा_कभी_न_सच्चा #StatueOfDisplacement #IronMan #तिरंगा_मेरी_आन_भगवा_मेरी_शान #ipl #IPL2020 #IPLinUAE #dc #mi #iplfen https://t.co/tPHAeteVIq', truncated=False, display_text_range=[0, 280], entities={'hashtags': [{'text': 'DuniyaBoliLagayegi', 'indices': [59, 78]}, {'text': 'KiaraAdvani', 'indices': [79, 91]}, {'text': 'MIvsDC', 'indices': [92, 99]}, {'text': 'DCvsMI', 'indices': [100, 107]}, {'text': 'RCBvSRH', 'indices': [108, 116]}, {'text': 'RCBvsSRH', 'indices': [117, 126]}, {'text': 'पंचर_पुत्रम_कभी_न_मित्रम', 'indices': [127, 152]}, {'text': 'पंचर_का_बच्चा_कभी_न_सच्चा', 'indices': [153, 179]}, {'text': 'StatueOfDisplacement', 'indices': [180, 201]}, {'text': 'IronMan', 'indices': [202, 210]}, {'text': 'तिरंगा_मेरी_आन_भगवा_मेरी_शान', 'indices': [211, 240]}, {'text': 'ipl', 'indices': [241, 245]}, {'text': 'IPL2020', 'indices': [246, 254]}, {'text': 'IPLinUAE', 'indices': [255, 264]}, {'text': 'dc', 'indices': [265, 268]}, {'text': 'mi', 'indices': [269, 272]}, {'text': 'iplfen', 'indices': [273, 280]}], 'symbols': [], 'user_mentions': [], 'urls': [], 'media': [{'id': 1322462661607518208, 'id_str': '1322462661607518208', 'indices': [281, 304], 'media_url': 'http://pbs.twimg.com/media/ElpUyLXVcAA-ao_.jpg', 'media_url_https': 'https://pbs.twimg.com/media/ElpUyLXVcAA-ao_.jpg', 'url': 'https://t.co/tPHAeteVIq', 'display_url': 'pic.twitter.com/tPHAeteVIq', 'expanded_url': 'https://twitter.com/VeenaPandit6/status/1322463732040036352/photo/1', 'type': 'photo', 'sizes': {'thumb': {'w': 150, 'h': 150, 'resize': 'crop'}, 'medium': {'w': 753, 'h': 452, 'resize': 'fit'}, 'large': {'w': 753, 'h': 452, 'resize': 'fit'}, 'small': {'w': 680, 'h': 408, 'resize': 'fit'}}}]}, extended_entities={'media': [{'id': 1322462661607518208, 'id_str': '1322462661607518208', 'indices': [281, 304], 'media_url': 'http://pbs.twimg.com/media/ElpUyLXVcAA-ao_.jpg', 'media_url_https': 'https://pbs.twimg.com/media/ElpUyLXVcAA-ao_.jpg', 'url': 'https://t.co/tPHAeteVIq', 'display_url': 'pic.twitter.com/tPHAeteVIq', 'expanded_url': 'https://twitter.com/VeenaPandit6/status/1322463732040036352/photo/1', 'type': 'photo', 'sizes': {'thumb': {'w': 150, 'h': 150, 'resize': 'crop'}, 'medium': {'w': 753, 'h': 452, 'resize': 'fit'}, 'large': {'w': 753, 'h': 452, 'resize': 'fit'}, 'small': {'w': 680, 'h': 408, 'resize': 'fit'}}}]}, metadata={'iso_language_code': 'en', 'result_type': 'recent'}, source='Twitter Web App', source_url='https://mobile.twitter.com', in_reply_to_status_id=None, in_reply_to_status_id_str=None, in_reply_to_user_id=None, in_reply_to_user_id_str=None, in_reply_to_screen_name=None, author=User(_api=<tweepy.api.API object at 0x000001D5154911F0>, _json={'id': 1225005552050130944, 'id_str': '1225005552050130944', 'name': 'Veena', 'screen_name': 'VeenaPandit6', 'location': 'Jaipur', 'description': 'A.R is known as the Best Cricket Predictor in India with his excellent 16 Years of accurate experience in Cricket Prediction & IPL Matches, Book now: 9358543999', 'url': 'https://t.co/P2V4QakDEx', 'entities': {'url': {'urls': [{'url': 'https://t.co/P2V4QakDEx', 'expanded_url': 'http://bit.ly/3970k87', 'display_url': 'bit.ly/3970k87', 'indices': [0, 23]}]}, 'description': {'urls': []}}, 'protected': False, 'followers_count': 8, 'friends_count': 1, 'listed_count': 0, 'created_at': 'Wed Feb 05 10:37:49 +0000 2020', 'favourites_count': 2, 'utc_offset': None, 'time_zone': None, 'geo_enabled': False, 'verified': False, 'statuses_count': 66, 'lang': None, 'contributors_enabled': False, 'is_translator': False, 'is_translation_enabled': False, 'profile_background_color': 'F5F8FA', 'profile_background_image_url': None, 'profile_background_image_url_https': None, 'profile_background_tile': False, 'profile_image_url': 'http://pbs.twimg.com/profile_images/1225005717314162690/KlEJr6lr_normal.jpg', 'profile_image_url_https': 'https://pbs.twimg.com/profile_images/1225005717314162690/KlEJr6lr_normal.jpg', 'profile_banner_url': 'https://pbs.twimg.com/profile_banners/1225005552050130944/1580899991', 'profile_link_color': '1DA1F2', 'profile_sidebar_border_color': 'C0DEED', 'profile_sidebar_fill_color': 'DDEEF6', 'profile_text_color': '333333', 'profile_use_background_image': True, 'has_extended_profile': True, 'default_profile': True, 'default_profile_image': False, 'following': False, 'follow_request_sent': False, 'notifications': False, 'translator_type': 'none'}, id=1225005552050130944, id_str='1225005552050130944', name='Veena', screen_name='VeenaPandit6', location='Jaipur', description='A.R is known as the Best Cricket Predictor in India with his excellent 16 Years of accurate experience in Cricket Prediction & IPL Matches, Book now: 9358543999', url='https://t.co/P2V4QakDEx', entities={'url': {'urls': [{'url': 'https://t.co/P2V4QakDEx', 'expanded_url': 'http://bit.ly/3970k87', 'display_url': 'bit.ly/3970k87', 'indices': [0, 23]}]}, 'description': {'urls': []}}, protected=False, followers_count=8, friends_count=1, listed_count=0, created_at=datetime.datetime(2020, 2, 5, 10, 37, 49), favourites_count=2, utc_offset=None, time_zone=None, geo_enabled=False, verified=False, statuses_count=66, lang=None, contributors_enabled=False, is_translator=False, is_translation_enabled=False, profile_background_color='F5F8FA', profile_background_image_url=None, profile_background_image_url_https=None, profile_background_tile=False, profile_image_url='http://pbs.twimg.com/profile_images/1225005717314162690/KlEJr6lr_normal.jpg', profile_image_url_https='https://pbs.twimg.com/profile_images/1225005717314162690/KlEJr6lr_normal.jpg', profile_banner_url='https://pbs.twimg.com/profile_banners/1225005552050130944/1580899991', profile_link_color='1DA1F2', profile_sidebar_border_color='C0DEED', profile_sidebar_fill_color='DDEEF6', profile_text_color='333333', profile_use_background_image=True, has_extended_profile=True, default_profile=True, default_profile_image=False, following=False, follow_request_sent=False, notifications=False, translator_type='none'), user=User(_api=<tweepy.api.API object at 0x000001D5154911F0>, _json={'id': 1225005552050130944, 'id_str': '1225005552050130944', 'name': 'Veena', 'screen_name': 'VeenaPandit6', 'location': 'Jaipur', 'description': 'A.R is known as the Best Cricket Predictor in India with his excellent 16 Years of accurate experience in Cricket Prediction & IPL Matches, Book now: 9358543999', 'url': 'https://t.co/P2V4QakDEx', 'entities': {'url': {'urls': [{'url': 'https://t.co/P2V4QakDEx', 'expanded_url': 'http://bit.ly/3970k87', 'display_url': 'bit.ly/3970k87', 'indices': [0, 23]}]}, 'description': {'urls': []}}, 'protected': False, 'followers_count': 8, 'friends_count': 1, 'listed_count': 0, 'created_at': 'Wed Feb 05 10:37:49 +0000 2020', 'favourites_count': 2, 'utc_offset': None, 'time_zone': None, 'geo_enabled': False, 'verified': False, 'statuses_count': 66, 'lang': None, 'contributors_enabled': False, 'is_translator': False, 'is_translation_enabled': False, 'profile_background_color': 'F5F8FA', 'profile_background_image_url': None, 'profile_background_image_url_https': None, 'profile_background_tile': False, 'profile_image_url': 'http://pbs.twimg.com/profile_images/1225005717314162690/KlEJr6lr_normal.jpg', 'profile_image_url_https': 'https://pbs.twimg.com/profile_images/1225005717314162690/KlEJr6lr_normal.jpg', 'profile_banner_url': 'https://pbs.twimg.com/profile_banners/1225005552050130944/1580899991', 'profile_link_color': '1DA1F2', 'profile_sidebar_border_color': 'C0DEED', 'profile_sidebar_fill_color': 'DDEEF6', 'profile_text_color': '333333', 'profile_use_background_image': True, 'has_extended_profile': True, 'default_profile': True, 'default_profile_image': False, 'following': False, 'follow_request_sent': False, 'notifications': False, 'translator_type': 'none'}, id=1225005552050130944, id_str='1225005552050130944', name='Veena', screen_name='VeenaPandit6', location='Jaipur', description='A.R is known as the Best Cricket Predictor in India with his excellent 16 Years of accurate experience in Cricket Prediction & IPL Matches, Book now: 9358543999', url='https://t.co/P2V4QakDEx', entities={'url': {'urls': [{'url': 'https://t.co/P2V4QakDEx', 'expanded_url': 'http://bit.ly/3970k87', 'display_url': 'bit.ly/3970k87', 'indices': [0, 23]}]}, 'description': {'urls': []}}, protected=False, followers_count=8, friends_count=1, listed_count=0, created_at=datetime.datetime(2020, 2, 5, 10, 37, 49), favourites_count=2, utc_offset=None, time_zone=None, geo_enabled=False, verified=False, statuses_count=66, lang=None, contributors_enabled=False, is_translator=False, is_translation_enabled=False, profile_background_color='F5F8FA', profile_background_image_url=None, profile_background_image_url_https=None, profile_background_tile=False, profile_image_url='http://pbs.twimg.com/profile_images/1225005717314162690/KlEJr6lr_normal.jpg', profile_image_url_https='https://pbs.twimg.com/profile_images/1225005717314162690/KlEJr6lr_normal.jpg', profile_banner_url='https://pbs.twimg.com/profile_banners/1225005552050130944/1580899991', profile_link_color='1DA1F2', profile_sidebar_border_color='C0DEED', profile_sidebar_fill_color='DDEEF6', profile_text_color='333333', profile_use_background_image=True, has_extended_profile=True, default_profile=True, default_profile_image=False, following=False, follow_request_sent=False, notifications=False, translator_type='none'), geo=None, coordinates=None, place=None, contributors=None, is_quote_status=False, retweet_count=0, favorite_count=0, favorited=False, retweeted=False, possibly_sensitive=False, lang='en') \n",
      "\n",
      ".....................................\n",
      "\n",
      "Status(_api=<tweepy.api.API object at 0x000001D5154911F0>, _json={'created_at': 'Sat Oct 31 08:08:28 +0000 2020', 'id': 1322450352512339969, 'id_str': '1322450352512339969', 'full_text': 'IPL Breaking for tdy                      Delhi Capitals Winning 1st Match                                      Rcb winning 2nd Match ..Rest will tell live 1st Toss will win by Delhi Capitals &amp; 2nd By Rcb ....MI will score @ 148 ..DC winning by 7wkts \\nRcb scoring @188 &amp; wil win', 'truncated': False, 'display_text_range': [0, 286], 'entities': {'hashtags': [], 'symbols': [], 'user_mentions': [{'screen_name': '188', 'name': 'king', 'id': 6928832, 'id_str': '6928832', 'indices': [268, 272]}], 'urls': []}, 'metadata': {'iso_language_code': 'en', 'result_type': 'recent'}, 'source': '<a href=\"http://twitter.com/download/iphone\" rel=\"nofollow\">Twitter for iPhone</a>', 'in_reply_to_status_id': None, 'in_reply_to_status_id_str': None, 'in_reply_to_user_id': None, 'in_reply_to_user_id_str': None, 'in_reply_to_screen_name': None, 'user': {'id': 2566502163, 'id_str': '2566502163', 'name': 'I knw Pridiction..', 'screen_name': 'paraskandpal1', 'location': 'India', 'description': 'IPL @2020 Specialist', 'url': None, 'entities': {'description': {'urls': []}}, 'protected': False, 'followers_count': 422, 'friends_count': 507, 'listed_count': 2, 'created_at': 'Tue May 27 04:42:31 +0000 2014', 'favourites_count': 1599, 'utc_offset': None, 'time_zone': None, 'geo_enabled': True, 'verified': False, 'statuses_count': 5766, 'lang': None, 'contributors_enabled': False, 'is_translator': False, 'is_translation_enabled': False, 'profile_background_color': 'C0DEED', 'profile_background_image_url': 'http://abs.twimg.com/images/themes/theme1/bg.png', 'profile_background_image_url_https': 'https://abs.twimg.com/images/themes/theme1/bg.png', 'profile_background_tile': False, 'profile_image_url': 'http://pbs.twimg.com/profile_images/1310080433581780992/sXSl65M0_normal.jpg', 'profile_image_url_https': 'https://pbs.twimg.com/profile_images/1310080433581780992/sXSl65M0_normal.jpg', 'profile_link_color': '1DA1F2', 'profile_sidebar_border_color': 'C0DEED', 'profile_sidebar_fill_color': 'DDEEF6', 'profile_text_color': '333333', 'profile_use_background_image': True, 'has_extended_profile': True, 'default_profile': True, 'default_profile_image': False, 'following': False, 'follow_request_sent': False, 'notifications': False, 'translator_type': 'none'}, 'geo': None, 'coordinates': None, 'place': {'id': '317fcc4b21a604d5', 'url': 'https://api.twitter.com/1.1/geo/id/317fcc4b21a604d5.json', 'place_type': 'city', 'name': 'New Delhi', 'full_name': 'New Delhi, India', 'country_code': 'IN', 'country': 'India', 'contained_within': [], 'bounding_box': {'type': 'Polygon', 'coordinates': [[[76.84252, 28.397657], [77.347652, 28.397657], [77.347652, 28.879322], [76.84252, 28.879322]]]}, 'attributes': {}}, 'contributors': None, 'is_quote_status': False, 'retweet_count': 0, 'favorite_count': 3, 'favorited': False, 'retweeted': False, 'lang': 'en'}, created_at=datetime.datetime(2020, 10, 31, 8, 8, 28), id=1322450352512339969, id_str='1322450352512339969', full_text='IPL Breaking for tdy                      Delhi Capitals Winning 1st Match                                      Rcb winning 2nd Match ..Rest will tell live 1st Toss will win by Delhi Capitals &amp; 2nd By Rcb ....MI will score @ 148 ..DC winning by 7wkts \\nRcb scoring @188 &amp; wil win', truncated=False, display_text_range=[0, 286], entities={'hashtags': [], 'symbols': [], 'user_mentions': [{'screen_name': '188', 'name': 'king', 'id': 6928832, 'id_str': '6928832', 'indices': [268, 272]}], 'urls': []}, metadata={'iso_language_code': 'en', 'result_type': 'recent'}, source='Twitter for iPhone', source_url='http://twitter.com/download/iphone', in_reply_to_status_id=None, in_reply_to_status_id_str=None, in_reply_to_user_id=None, in_reply_to_user_id_str=None, in_reply_to_screen_name=None, author=User(_api=<tweepy.api.API object at 0x000001D5154911F0>, _json={'id': 2566502163, 'id_str': '2566502163', 'name': 'I knw Pridiction..', 'screen_name': 'paraskandpal1', 'location': 'India', 'description': 'IPL @2020 Specialist', 'url': None, 'entities': {'description': {'urls': []}}, 'protected': False, 'followers_count': 422, 'friends_count': 507, 'listed_count': 2, 'created_at': 'Tue May 27 04:42:31 +0000 2014', 'favourites_count': 1599, 'utc_offset': None, 'time_zone': None, 'geo_enabled': True, 'verified': False, 'statuses_count': 5766, 'lang': None, 'contributors_enabled': False, 'is_translator': False, 'is_translation_enabled': False, 'profile_background_color': 'C0DEED', 'profile_background_image_url': 'http://abs.twimg.com/images/themes/theme1/bg.png', 'profile_background_image_url_https': 'https://abs.twimg.com/images/themes/theme1/bg.png', 'profile_background_tile': False, 'profile_image_url': 'http://pbs.twimg.com/profile_images/1310080433581780992/sXSl65M0_normal.jpg', 'profile_image_url_https': 'https://pbs.twimg.com/profile_images/1310080433581780992/sXSl65M0_normal.jpg', 'profile_link_color': '1DA1F2', 'profile_sidebar_border_color': 'C0DEED', 'profile_sidebar_fill_color': 'DDEEF6', 'profile_text_color': '333333', 'profile_use_background_image': True, 'has_extended_profile': True, 'default_profile': True, 'default_profile_image': False, 'following': False, 'follow_request_sent': False, 'notifications': False, 'translator_type': 'none'}, id=2566502163, id_str='2566502163', name='I knw Pridiction..', screen_name='paraskandpal1', location='India', description='IPL @2020 Specialist', url=None, entities={'description': {'urls': []}}, protected=False, followers_count=422, friends_count=507, listed_count=2, created_at=datetime.datetime(2014, 5, 27, 4, 42, 31), favourites_count=1599, utc_offset=None, time_zone=None, geo_enabled=True, verified=False, statuses_count=5766, lang=None, contributors_enabled=False, is_translator=False, is_translation_enabled=False, profile_background_color='C0DEED', profile_background_image_url='http://abs.twimg.com/images/themes/theme1/bg.png', profile_background_image_url_https='https://abs.twimg.com/images/themes/theme1/bg.png', profile_background_tile=False, profile_image_url='http://pbs.twimg.com/profile_images/1310080433581780992/sXSl65M0_normal.jpg', profile_image_url_https='https://pbs.twimg.com/profile_images/1310080433581780992/sXSl65M0_normal.jpg', profile_link_color='1DA1F2', profile_sidebar_border_color='C0DEED', profile_sidebar_fill_color='DDEEF6', profile_text_color='333333', profile_use_background_image=True, has_extended_profile=True, default_profile=True, default_profile_image=False, following=False, follow_request_sent=False, notifications=False, translator_type='none'), user=User(_api=<tweepy.api.API object at 0x000001D5154911F0>, _json={'id': 2566502163, 'id_str': '2566502163', 'name': 'I knw Pridiction..', 'screen_name': 'paraskandpal1', 'location': 'India', 'description': 'IPL @2020 Specialist', 'url': None, 'entities': {'description': {'urls': []}}, 'protected': False, 'followers_count': 422, 'friends_count': 507, 'listed_count': 2, 'created_at': 'Tue May 27 04:42:31 +0000 2014', 'favourites_count': 1599, 'utc_offset': None, 'time_zone': None, 'geo_enabled': True, 'verified': False, 'statuses_count': 5766, 'lang': None, 'contributors_enabled': False, 'is_translator': False, 'is_translation_enabled': False, 'profile_background_color': 'C0DEED', 'profile_background_image_url': 'http://abs.twimg.com/images/themes/theme1/bg.png', 'profile_background_image_url_https': 'https://abs.twimg.com/images/themes/theme1/bg.png', 'profile_background_tile': False, 'profile_image_url': 'http://pbs.twimg.com/profile_images/1310080433581780992/sXSl65M0_normal.jpg', 'profile_image_url_https': 'https://pbs.twimg.com/profile_images/1310080433581780992/sXSl65M0_normal.jpg', 'profile_link_color': '1DA1F2', 'profile_sidebar_border_color': 'C0DEED', 'profile_sidebar_fill_color': 'DDEEF6', 'profile_text_color': '333333', 'profile_use_background_image': True, 'has_extended_profile': True, 'default_profile': True, 'default_profile_image': False, 'following': False, 'follow_request_sent': False, 'notifications': False, 'translator_type': 'none'}, id=2566502163, id_str='2566502163', name='I knw Pridiction..', screen_name='paraskandpal1', location='India', description='IPL @2020 Specialist', url=None, entities={'description': {'urls': []}}, protected=False, followers_count=422, friends_count=507, listed_count=2, created_at=datetime.datetime(2014, 5, 27, 4, 42, 31), favourites_count=1599, utc_offset=None, time_zone=None, geo_enabled=True, verified=False, statuses_count=5766, lang=None, contributors_enabled=False, is_translator=False, is_translation_enabled=False, profile_background_color='C0DEED', profile_background_image_url='http://abs.twimg.com/images/themes/theme1/bg.png', profile_background_image_url_https='https://abs.twimg.com/images/themes/theme1/bg.png', profile_background_tile=False, profile_image_url='http://pbs.twimg.com/profile_images/1310080433581780992/sXSl65M0_normal.jpg', profile_image_url_https='https://pbs.twimg.com/profile_images/1310080433581780992/sXSl65M0_normal.jpg', profile_link_color='1DA1F2', profile_sidebar_border_color='C0DEED', profile_sidebar_fill_color='DDEEF6', profile_text_color='333333', profile_use_background_image=True, has_extended_profile=True, default_profile=True, default_profile_image=False, following=False, follow_request_sent=False, notifications=False, translator_type='none'), geo=None, coordinates=None, place=Place(_api=<tweepy.api.API object at 0x000001D5154911F0>, id='317fcc4b21a604d5', url='https://api.twitter.com/1.1/geo/id/317fcc4b21a604d5.json', place_type='city', name='New Delhi', full_name='New Delhi, India', country_code='IN', country='India', contained_within=[], bounding_box=BoundingBox(_api=<tweepy.api.API object at 0x000001D5154911F0>, type='Polygon', coordinates=[[[76.84252, 28.397657], [77.347652, 28.397657], [77.347652, 28.879322], [76.84252, 28.879322]]]), attributes={}), contributors=None, is_quote_status=False, retweet_count=0, favorite_count=3, favorited=False, retweeted=False, lang='en') \n",
      "\n",
      ".....................................\n",
      "\n",
      "Status(_api=<tweepy.api.API object at 0x000001D5154911F0>, _json={'created_at': 'Sat Oct 31 06:42:08 +0000 2020', 'id': 1322428623362510848, 'id_str': '1322428623362510848', 'full_text': \"Congrats Paltans🎉 1st Team To Play 200 IPL Matches (Today Against DC)\\n\\nIt's All About Winning, Playing More Games ✌ King Of IPL💙 #IPL2020 #MI #MIvsDC #DCvsMI https://t.co/skAyFnyK5v\", 'truncated': False, 'display_text_range': [0, 157], 'entities': {'hashtags': [{'text': 'IPL2020', 'indices': [129, 137]}, {'text': 'MI', 'indices': [138, 141]}, {'text': 'MIvsDC', 'indices': [142, 149]}, {'text': 'DCvsMI', 'indices': [150, 157]}], 'symbols': [], 'user_mentions': [], 'urls': [], 'media': [{'id': 1322428605364805632, 'id_str': '1322428605364805632', 'indices': [158, 181], 'media_url': 'http://pbs.twimg.com/media/Elo1z1-VoAAxzsR.jpg', 'media_url_https': 'https://pbs.twimg.com/media/Elo1z1-VoAAxzsR.jpg', 'url': 'https://t.co/skAyFnyK5v', 'display_url': 'pic.twitter.com/skAyFnyK5v', 'expanded_url': 'https://twitter.com/CricUlagam/status/1322428623362510848/photo/1', 'type': 'photo', 'sizes': {'large': {'w': 2048, 'h': 2048, 'resize': 'fit'}, 'thumb': {'w': 150, 'h': 150, 'resize': 'crop'}, 'small': {'w': 680, 'h': 680, 'resize': 'fit'}, 'medium': {'w': 1200, 'h': 1200, 'resize': 'fit'}}}]}, 'extended_entities': {'media': [{'id': 1322428605364805632, 'id_str': '1322428605364805632', 'indices': [158, 181], 'media_url': 'http://pbs.twimg.com/media/Elo1z1-VoAAxzsR.jpg', 'media_url_https': 'https://pbs.twimg.com/media/Elo1z1-VoAAxzsR.jpg', 'url': 'https://t.co/skAyFnyK5v', 'display_url': 'pic.twitter.com/skAyFnyK5v', 'expanded_url': 'https://twitter.com/CricUlagam/status/1322428623362510848/photo/1', 'type': 'photo', 'sizes': {'large': {'w': 2048, 'h': 2048, 'resize': 'fit'}, 'thumb': {'w': 150, 'h': 150, 'resize': 'crop'}, 'small': {'w': 680, 'h': 680, 'resize': 'fit'}, 'medium': {'w': 1200, 'h': 1200, 'resize': 'fit'}}}]}, 'metadata': {'iso_language_code': 'en', 'result_type': 'recent'}, 'source': '<a href=\"http://twitter.com/download/android\" rel=\"nofollow\">Twitter for Android</a>', 'in_reply_to_status_id': None, 'in_reply_to_status_id_str': None, 'in_reply_to_user_id': None, 'in_reply_to_user_id_str': None, 'in_reply_to_screen_name': None, 'user': {'id': 1168473050301353984, 'id_str': '1168473050301353984', 'name': 'CricUlagam', 'screen_name': 'CricUlagam', 'location': 'TamilNadu, India', 'description': \"கிரிக்கெட் இப்போ நம்ம அழகு தமிழில்😍🏏Cricket Is Not a Game, It's a Emotion 💕\", 'url': 'https://t.co/VQM7LVkKl4', 'entities': {'url': {'urls': [{'url': 'https://t.co/VQM7LVkKl4', 'expanded_url': 'https://www.criculagam.com', 'display_url': 'criculagam.com', 'indices': [0, 23]}]}, 'description': {'urls': []}}, 'protected': False, 'followers_count': 124, 'friends_count': 41, 'listed_count': 0, 'created_at': 'Mon Sep 02 10:37:56 +0000 2019', 'favourites_count': 14844, 'utc_offset': None, 'time_zone': None, 'geo_enabled': False, 'verified': False, 'statuses_count': 2914, 'lang': None, 'contributors_enabled': False, 'is_translator': False, 'is_translation_enabled': False, 'profile_background_color': 'F5F8FA', 'profile_background_image_url': None, 'profile_background_image_url_https': None, 'profile_background_tile': False, 'profile_image_url': 'http://pbs.twimg.com/profile_images/1289115677748375552/EVbCiS_6_normal.jpg', 'profile_image_url_https': 'https://pbs.twimg.com/profile_images/1289115677748375552/EVbCiS_6_normal.jpg', 'profile_banner_url': 'https://pbs.twimg.com/profile_banners/1168473050301353984/1594371430', 'profile_link_color': '1DA1F2', 'profile_sidebar_border_color': 'C0DEED', 'profile_sidebar_fill_color': 'DDEEF6', 'profile_text_color': '333333', 'profile_use_background_image': True, 'has_extended_profile': False, 'default_profile': True, 'default_profile_image': False, 'following': False, 'follow_request_sent': False, 'notifications': False, 'translator_type': 'none'}, 'geo': None, 'coordinates': None, 'place': None, 'contributors': None, 'is_quote_status': False, 'retweet_count': 0, 'favorite_count': 1, 'favorited': False, 'retweeted': False, 'possibly_sensitive': False, 'lang': 'en'}, created_at=datetime.datetime(2020, 10, 31, 6, 42, 8), id=1322428623362510848, id_str='1322428623362510848', full_text=\"Congrats Paltans🎉 1st Team To Play 200 IPL Matches (Today Against DC)\\n\\nIt's All About Winning, Playing More Games ✌ King Of IPL💙 #IPL2020 #MI #MIvsDC #DCvsMI https://t.co/skAyFnyK5v\", truncated=False, display_text_range=[0, 157], entities={'hashtags': [{'text': 'IPL2020', 'indices': [129, 137]}, {'text': 'MI', 'indices': [138, 141]}, {'text': 'MIvsDC', 'indices': [142, 149]}, {'text': 'DCvsMI', 'indices': [150, 157]}], 'symbols': [], 'user_mentions': [], 'urls': [], 'media': [{'id': 1322428605364805632, 'id_str': '1322428605364805632', 'indices': [158, 181], 'media_url': 'http://pbs.twimg.com/media/Elo1z1-VoAAxzsR.jpg', 'media_url_https': 'https://pbs.twimg.com/media/Elo1z1-VoAAxzsR.jpg', 'url': 'https://t.co/skAyFnyK5v', 'display_url': 'pic.twitter.com/skAyFnyK5v', 'expanded_url': 'https://twitter.com/CricUlagam/status/1322428623362510848/photo/1', 'type': 'photo', 'sizes': {'large': {'w': 2048, 'h': 2048, 'resize': 'fit'}, 'thumb': {'w': 150, 'h': 150, 'resize': 'crop'}, 'small': {'w': 680, 'h': 680, 'resize': 'fit'}, 'medium': {'w': 1200, 'h': 1200, 'resize': 'fit'}}}]}, extended_entities={'media': [{'id': 1322428605364805632, 'id_str': '1322428605364805632', 'indices': [158, 181], 'media_url': 'http://pbs.twimg.com/media/Elo1z1-VoAAxzsR.jpg', 'media_url_https': 'https://pbs.twimg.com/media/Elo1z1-VoAAxzsR.jpg', 'url': 'https://t.co/skAyFnyK5v', 'display_url': 'pic.twitter.com/skAyFnyK5v', 'expanded_url': 'https://twitter.com/CricUlagam/status/1322428623362510848/photo/1', 'type': 'photo', 'sizes': {'large': {'w': 2048, 'h': 2048, 'resize': 'fit'}, 'thumb': {'w': 150, 'h': 150, 'resize': 'crop'}, 'small': {'w': 680, 'h': 680, 'resize': 'fit'}, 'medium': {'w': 1200, 'h': 1200, 'resize': 'fit'}}}]}, metadata={'iso_language_code': 'en', 'result_type': 'recent'}, source='Twitter for Android', source_url='http://twitter.com/download/android', in_reply_to_status_id=None, in_reply_to_status_id_str=None, in_reply_to_user_id=None, in_reply_to_user_id_str=None, in_reply_to_screen_name=None, author=User(_api=<tweepy.api.API object at 0x000001D5154911F0>, _json={'id': 1168473050301353984, 'id_str': '1168473050301353984', 'name': 'CricUlagam', 'screen_name': 'CricUlagam', 'location': 'TamilNadu, India', 'description': \"கிரிக்கெட் இப்போ நம்ம அழகு தமிழில்😍🏏Cricket Is Not a Game, It's a Emotion 💕\", 'url': 'https://t.co/VQM7LVkKl4', 'entities': {'url': {'urls': [{'url': 'https://t.co/VQM7LVkKl4', 'expanded_url': 'https://www.criculagam.com', 'display_url': 'criculagam.com', 'indices': [0, 23]}]}, 'description': {'urls': []}}, 'protected': False, 'followers_count': 124, 'friends_count': 41, 'listed_count': 0, 'created_at': 'Mon Sep 02 10:37:56 +0000 2019', 'favourites_count': 14844, 'utc_offset': None, 'time_zone': None, 'geo_enabled': False, 'verified': False, 'statuses_count': 2914, 'lang': None, 'contributors_enabled': False, 'is_translator': False, 'is_translation_enabled': False, 'profile_background_color': 'F5F8FA', 'profile_background_image_url': None, 'profile_background_image_url_https': None, 'profile_background_tile': False, 'profile_image_url': 'http://pbs.twimg.com/profile_images/1289115677748375552/EVbCiS_6_normal.jpg', 'profile_image_url_https': 'https://pbs.twimg.com/profile_images/1289115677748375552/EVbCiS_6_normal.jpg', 'profile_banner_url': 'https://pbs.twimg.com/profile_banners/1168473050301353984/1594371430', 'profile_link_color': '1DA1F2', 'profile_sidebar_border_color': 'C0DEED', 'profile_sidebar_fill_color': 'DDEEF6', 'profile_text_color': '333333', 'profile_use_background_image': True, 'has_extended_profile': False, 'default_profile': True, 'default_profile_image': False, 'following': False, 'follow_request_sent': False, 'notifications': False, 'translator_type': 'none'}, id=1168473050301353984, id_str='1168473050301353984', name='CricUlagam', screen_name='CricUlagam', location='TamilNadu, India', description=\"கிரிக்கெட் இப்போ நம்ம அழகு தமிழில்😍🏏Cricket Is Not a Game, It's a Emotion 💕\", url='https://t.co/VQM7LVkKl4', entities={'url': {'urls': [{'url': 'https://t.co/VQM7LVkKl4', 'expanded_url': 'https://www.criculagam.com', 'display_url': 'criculagam.com', 'indices': [0, 23]}]}, 'description': {'urls': []}}, protected=False, followers_count=124, friends_count=41, listed_count=0, created_at=datetime.datetime(2019, 9, 2, 10, 37, 56), favourites_count=14844, utc_offset=None, time_zone=None, geo_enabled=False, verified=False, statuses_count=2914, lang=None, contributors_enabled=False, is_translator=False, is_translation_enabled=False, profile_background_color='F5F8FA', profile_background_image_url=None, profile_background_image_url_https=None, profile_background_tile=False, profile_image_url='http://pbs.twimg.com/profile_images/1289115677748375552/EVbCiS_6_normal.jpg', profile_image_url_https='https://pbs.twimg.com/profile_images/1289115677748375552/EVbCiS_6_normal.jpg', profile_banner_url='https://pbs.twimg.com/profile_banners/1168473050301353984/1594371430', profile_link_color='1DA1F2', profile_sidebar_border_color='C0DEED', profile_sidebar_fill_color='DDEEF6', profile_text_color='333333', profile_use_background_image=True, has_extended_profile=False, default_profile=True, default_profile_image=False, following=False, follow_request_sent=False, notifications=False, translator_type='none'), user=User(_api=<tweepy.api.API object at 0x000001D5154911F0>, _json={'id': 1168473050301353984, 'id_str': '1168473050301353984', 'name': 'CricUlagam', 'screen_name': 'CricUlagam', 'location': 'TamilNadu, India', 'description': \"கிரிக்கெட் இப்போ நம்ம அழகு தமிழில்😍🏏Cricket Is Not a Game, It's a Emotion 💕\", 'url': 'https://t.co/VQM7LVkKl4', 'entities': {'url': {'urls': [{'url': 'https://t.co/VQM7LVkKl4', 'expanded_url': 'https://www.criculagam.com', 'display_url': 'criculagam.com', 'indices': [0, 23]}]}, 'description': {'urls': []}}, 'protected': False, 'followers_count': 124, 'friends_count': 41, 'listed_count': 0, 'created_at': 'Mon Sep 02 10:37:56 +0000 2019', 'favourites_count': 14844, 'utc_offset': None, 'time_zone': None, 'geo_enabled': False, 'verified': False, 'statuses_count': 2914, 'lang': None, 'contributors_enabled': False, 'is_translator': False, 'is_translation_enabled': False, 'profile_background_color': 'F5F8FA', 'profile_background_image_url': None, 'profile_background_image_url_https': None, 'profile_background_tile': False, 'profile_image_url': 'http://pbs.twimg.com/profile_images/1289115677748375552/EVbCiS_6_normal.jpg', 'profile_image_url_https': 'https://pbs.twimg.com/profile_images/1289115677748375552/EVbCiS_6_normal.jpg', 'profile_banner_url': 'https://pbs.twimg.com/profile_banners/1168473050301353984/1594371430', 'profile_link_color': '1DA1F2', 'profile_sidebar_border_color': 'C0DEED', 'profile_sidebar_fill_color': 'DDEEF6', 'profile_text_color': '333333', 'profile_use_background_image': True, 'has_extended_profile': False, 'default_profile': True, 'default_profile_image': False, 'following': False, 'follow_request_sent': False, 'notifications': False, 'translator_type': 'none'}, id=1168473050301353984, id_str='1168473050301353984', name='CricUlagam', screen_name='CricUlagam', location='TamilNadu, India', description=\"கிரிக்கெட் இப்போ நம்ம அழகு தமிழில்😍🏏Cricket Is Not a Game, It's a Emotion 💕\", url='https://t.co/VQM7LVkKl4', entities={'url': {'urls': [{'url': 'https://t.co/VQM7LVkKl4', 'expanded_url': 'https://www.criculagam.com', 'display_url': 'criculagam.com', 'indices': [0, 23]}]}, 'description': {'urls': []}}, protected=False, followers_count=124, friends_count=41, listed_count=0, created_at=datetime.datetime(2019, 9, 2, 10, 37, 56), favourites_count=14844, utc_offset=None, time_zone=None, geo_enabled=False, verified=False, statuses_count=2914, lang=None, contributors_enabled=False, is_translator=False, is_translation_enabled=False, profile_background_color='F5F8FA', profile_background_image_url=None, profile_background_image_url_https=None, profile_background_tile=False, profile_image_url='http://pbs.twimg.com/profile_images/1289115677748375552/EVbCiS_6_normal.jpg', profile_image_url_https='https://pbs.twimg.com/profile_images/1289115677748375552/EVbCiS_6_normal.jpg', profile_banner_url='https://pbs.twimg.com/profile_banners/1168473050301353984/1594371430', profile_link_color='1DA1F2', profile_sidebar_border_color='C0DEED', profile_sidebar_fill_color='DDEEF6', profile_text_color='333333', profile_use_background_image=True, has_extended_profile=False, default_profile=True, default_profile_image=False, following=False, follow_request_sent=False, notifications=False, translator_type='none'), geo=None, coordinates=None, place=None, contributors=None, is_quote_status=False, retweet_count=0, favorite_count=1, favorited=False, retweeted=False, possibly_sensitive=False, lang='en') \n",
      "\n",
      ".....................................\n",
      "\n",
      "Status(_api=<tweepy.api.API object at 0x000001D5154911F0>, _json={'created_at': 'Sat Oct 31 05:50:59 +0000 2020', 'id': 1322415751597191168, 'id_str': '1322415751597191168', 'full_text': '#MIvsDC | #IPL2020 | #PollOfTheDay ⏳\\nMatch 5⃣1⃣\\nWho has better chances of winning 🤔\\n\\n#DelhiCapitals #YehHaiNayiDilli #यहहैनयीदिल्ली  #ThisIsDelhiCapitals #OneFamily #MumbaiIndians #पलटन  #MI #IPL #IPLinUAE #IPLT20', 'truncated': False, 'display_text_range': [0, 213], 'entities': {'hashtags': [{'text': 'MIvsDC', 'indices': [0, 7]}, {'text': 'IPL2020', 'indices': [10, 18]}, {'text': 'PollOfTheDay', 'indices': [21, 34]}, {'text': 'DelhiCapitals', 'indices': [85, 99]}, {'text': 'YehHaiNayiDilli', 'indices': [100, 116]}, {'text': 'यहहैनयीदिल्ली', 'indices': [117, 131]}, {'text': 'ThisIsDelhiCapitals', 'indices': [133, 153]}, {'text': 'OneFamily', 'indices': [154, 164]}, {'text': 'MumbaiIndians', 'indices': [165, 179]}, {'text': 'पलटन', 'indices': [180, 185]}, {'text': 'MI', 'indices': [187, 190]}, {'text': 'IPL', 'indices': [191, 195]}, {'text': 'IPLinUAE', 'indices': [196, 205]}, {'text': 'IPLT20', 'indices': [206, 213]}], 'symbols': [], 'user_mentions': [], 'urls': []}, 'metadata': {'iso_language_code': 'en', 'result_type': 'recent'}, 'source': '<a href=\"https://mobile.twitter.com\" rel=\"nofollow\">Twitter Web App</a>', 'in_reply_to_status_id': None, 'in_reply_to_status_id_str': None, 'in_reply_to_user_id': None, 'in_reply_to_user_id_str': None, 'in_reply_to_screen_name': None, 'user': {'id': 1227520533052317697, 'id_str': '1227520533052317697', 'name': 'SportsTiger', 'screen_name': 'sportstigerapp', 'location': 'Jaipur, Rajasthan', 'description': 'Follow SportsTiger for latest sports news around the globe | Live Matches | Videos | Scorecards | Fantasy Predictions | Match Highlights & much more', 'url': 'https://t.co/DYA99AdZ4h', 'entities': {'url': {'urls': [{'url': 'https://t.co/DYA99AdZ4h', 'expanded_url': 'https://bit.ly/SportsTiger_App', 'display_url': 'bit.ly/SportsTiger_App', 'indices': [0, 23]}]}, 'description': {'urls': []}}, 'protected': False, 'followers_count': 1484, 'friends_count': 70, 'listed_count': 0, 'created_at': 'Wed Feb 12 09:11:28 +0000 2020', 'favourites_count': 94, 'utc_offset': None, 'time_zone': None, 'geo_enabled': False, 'verified': False, 'statuses_count': 14010, 'lang': None, 'contributors_enabled': False, 'is_translator': False, 'is_translation_enabled': False, 'profile_background_color': 'F5F8FA', 'profile_background_image_url': None, 'profile_background_image_url_https': None, 'profile_background_tile': False, 'profile_image_url': 'http://pbs.twimg.com/profile_images/1308843124689530880/Q7Ojw9Ca_normal.jpg', 'profile_image_url_https': 'https://pbs.twimg.com/profile_images/1308843124689530880/Q7Ojw9Ca_normal.jpg', 'profile_banner_url': 'https://pbs.twimg.com/profile_banners/1227520533052317697/1601729061', 'profile_link_color': '1DA1F2', 'profile_sidebar_border_color': 'C0DEED', 'profile_sidebar_fill_color': 'DDEEF6', 'profile_text_color': '333333', 'profile_use_background_image': True, 'has_extended_profile': False, 'default_profile': True, 'default_profile_image': False, 'following': False, 'follow_request_sent': False, 'notifications': False, 'translator_type': 'none'}, 'geo': None, 'coordinates': None, 'place': None, 'contributors': None, 'is_quote_status': False, 'retweet_count': 2, 'favorite_count': 4, 'favorited': False, 'retweeted': False, 'lang': 'en'}, created_at=datetime.datetime(2020, 10, 31, 5, 50, 59), id=1322415751597191168, id_str='1322415751597191168', full_text='#MIvsDC | #IPL2020 | #PollOfTheDay ⏳\\nMatch 5⃣1⃣\\nWho has better chances of winning 🤔\\n\\n#DelhiCapitals #YehHaiNayiDilli #यहहैनयीदिल्ली  #ThisIsDelhiCapitals #OneFamily #MumbaiIndians #पलटन  #MI #IPL #IPLinUAE #IPLT20', truncated=False, display_text_range=[0, 213], entities={'hashtags': [{'text': 'MIvsDC', 'indices': [0, 7]}, {'text': 'IPL2020', 'indices': [10, 18]}, {'text': 'PollOfTheDay', 'indices': [21, 34]}, {'text': 'DelhiCapitals', 'indices': [85, 99]}, {'text': 'YehHaiNayiDilli', 'indices': [100, 116]}, {'text': 'यहहैनयीदिल्ली', 'indices': [117, 131]}, {'text': 'ThisIsDelhiCapitals', 'indices': [133, 153]}, {'text': 'OneFamily', 'indices': [154, 164]}, {'text': 'MumbaiIndians', 'indices': [165, 179]}, {'text': 'पलटन', 'indices': [180, 185]}, {'text': 'MI', 'indices': [187, 190]}, {'text': 'IPL', 'indices': [191, 195]}, {'text': 'IPLinUAE', 'indices': [196, 205]}, {'text': 'IPLT20', 'indices': [206, 213]}], 'symbols': [], 'user_mentions': [], 'urls': []}, metadata={'iso_language_code': 'en', 'result_type': 'recent'}, source='Twitter Web App', source_url='https://mobile.twitter.com', in_reply_to_status_id=None, in_reply_to_status_id_str=None, in_reply_to_user_id=None, in_reply_to_user_id_str=None, in_reply_to_screen_name=None, author=User(_api=<tweepy.api.API object at 0x000001D5154911F0>, _json={'id': 1227520533052317697, 'id_str': '1227520533052317697', 'name': 'SportsTiger', 'screen_name': 'sportstigerapp', 'location': 'Jaipur, Rajasthan', 'description': 'Follow SportsTiger for latest sports news around the globe | Live Matches | Videos | Scorecards | Fantasy Predictions | Match Highlights & much more', 'url': 'https://t.co/DYA99AdZ4h', 'entities': {'url': {'urls': [{'url': 'https://t.co/DYA99AdZ4h', 'expanded_url': 'https://bit.ly/SportsTiger_App', 'display_url': 'bit.ly/SportsTiger_App', 'indices': [0, 23]}]}, 'description': {'urls': []}}, 'protected': False, 'followers_count': 1484, 'friends_count': 70, 'listed_count': 0, 'created_at': 'Wed Feb 12 09:11:28 +0000 2020', 'favourites_count': 94, 'utc_offset': None, 'time_zone': None, 'geo_enabled': False, 'verified': False, 'statuses_count': 14010, 'lang': None, 'contributors_enabled': False, 'is_translator': False, 'is_translation_enabled': False, 'profile_background_color': 'F5F8FA', 'profile_background_image_url': None, 'profile_background_image_url_https': None, 'profile_background_tile': False, 'profile_image_url': 'http://pbs.twimg.com/profile_images/1308843124689530880/Q7Ojw9Ca_normal.jpg', 'profile_image_url_https': 'https://pbs.twimg.com/profile_images/1308843124689530880/Q7Ojw9Ca_normal.jpg', 'profile_banner_url': 'https://pbs.twimg.com/profile_banners/1227520533052317697/1601729061', 'profile_link_color': '1DA1F2', 'profile_sidebar_border_color': 'C0DEED', 'profile_sidebar_fill_color': 'DDEEF6', 'profile_text_color': '333333', 'profile_use_background_image': True, 'has_extended_profile': False, 'default_profile': True, 'default_profile_image': False, 'following': False, 'follow_request_sent': False, 'notifications': False, 'translator_type': 'none'}, id=1227520533052317697, id_str='1227520533052317697', name='SportsTiger', screen_name='sportstigerapp', location='Jaipur, Rajasthan', description='Follow SportsTiger for latest sports news around the globe | Live Matches | Videos | Scorecards | Fantasy Predictions | Match Highlights & much more', url='https://t.co/DYA99AdZ4h', entities={'url': {'urls': [{'url': 'https://t.co/DYA99AdZ4h', 'expanded_url': 'https://bit.ly/SportsTiger_App', 'display_url': 'bit.ly/SportsTiger_App', 'indices': [0, 23]}]}, 'description': {'urls': []}}, protected=False, followers_count=1484, friends_count=70, listed_count=0, created_at=datetime.datetime(2020, 2, 12, 9, 11, 28), favourites_count=94, utc_offset=None, time_zone=None, geo_enabled=False, verified=False, statuses_count=14010, lang=None, contributors_enabled=False, is_translator=False, is_translation_enabled=False, profile_background_color='F5F8FA', profile_background_image_url=None, profile_background_image_url_https=None, profile_background_tile=False, profile_image_url='http://pbs.twimg.com/profile_images/1308843124689530880/Q7Ojw9Ca_normal.jpg', profile_image_url_https='https://pbs.twimg.com/profile_images/1308843124689530880/Q7Ojw9Ca_normal.jpg', profile_banner_url='https://pbs.twimg.com/profile_banners/1227520533052317697/1601729061', profile_link_color='1DA1F2', profile_sidebar_border_color='C0DEED', profile_sidebar_fill_color='DDEEF6', profile_text_color='333333', profile_use_background_image=True, has_extended_profile=False, default_profile=True, default_profile_image=False, following=False, follow_request_sent=False, notifications=False, translator_type='none'), user=User(_api=<tweepy.api.API object at 0x000001D5154911F0>, _json={'id': 1227520533052317697, 'id_str': '1227520533052317697', 'name': 'SportsTiger', 'screen_name': 'sportstigerapp', 'location': 'Jaipur, Rajasthan', 'description': 'Follow SportsTiger for latest sports news around the globe | Live Matches | Videos | Scorecards | Fantasy Predictions | Match Highlights & much more', 'url': 'https://t.co/DYA99AdZ4h', 'entities': {'url': {'urls': [{'url': 'https://t.co/DYA99AdZ4h', 'expanded_url': 'https://bit.ly/SportsTiger_App', 'display_url': 'bit.ly/SportsTiger_App', 'indices': [0, 23]}]}, 'description': {'urls': []}}, 'protected': False, 'followers_count': 1484, 'friends_count': 70, 'listed_count': 0, 'created_at': 'Wed Feb 12 09:11:28 +0000 2020', 'favourites_count': 94, 'utc_offset': None, 'time_zone': None, 'geo_enabled': False, 'verified': False, 'statuses_count': 14010, 'lang': None, 'contributors_enabled': False, 'is_translator': False, 'is_translation_enabled': False, 'profile_background_color': 'F5F8FA', 'profile_background_image_url': None, 'profile_background_image_url_https': None, 'profile_background_tile': False, 'profile_image_url': 'http://pbs.twimg.com/profile_images/1308843124689530880/Q7Ojw9Ca_normal.jpg', 'profile_image_url_https': 'https://pbs.twimg.com/profile_images/1308843124689530880/Q7Ojw9Ca_normal.jpg', 'profile_banner_url': 'https://pbs.twimg.com/profile_banners/1227520533052317697/1601729061', 'profile_link_color': '1DA1F2', 'profile_sidebar_border_color': 'C0DEED', 'profile_sidebar_fill_color': 'DDEEF6', 'profile_text_color': '333333', 'profile_use_background_image': True, 'has_extended_profile': False, 'default_profile': True, 'default_profile_image': False, 'following': False, 'follow_request_sent': False, 'notifications': False, 'translator_type': 'none'}, id=1227520533052317697, id_str='1227520533052317697', name='SportsTiger', screen_name='sportstigerapp', location='Jaipur, Rajasthan', description='Follow SportsTiger for latest sports news around the globe | Live Matches | Videos | Scorecards | Fantasy Predictions | Match Highlights & much more', url='https://t.co/DYA99AdZ4h', entities={'url': {'urls': [{'url': 'https://t.co/DYA99AdZ4h', 'expanded_url': 'https://bit.ly/SportsTiger_App', 'display_url': 'bit.ly/SportsTiger_App', 'indices': [0, 23]}]}, 'description': {'urls': []}}, protected=False, followers_count=1484, friends_count=70, listed_count=0, created_at=datetime.datetime(2020, 2, 12, 9, 11, 28), favourites_count=94, utc_offset=None, time_zone=None, geo_enabled=False, verified=False, statuses_count=14010, lang=None, contributors_enabled=False, is_translator=False, is_translation_enabled=False, profile_background_color='F5F8FA', profile_background_image_url=None, profile_background_image_url_https=None, profile_background_tile=False, profile_image_url='http://pbs.twimg.com/profile_images/1308843124689530880/Q7Ojw9Ca_normal.jpg', profile_image_url_https='https://pbs.twimg.com/profile_images/1308843124689530880/Q7Ojw9Ca_normal.jpg', profile_banner_url='https://pbs.twimg.com/profile_banners/1227520533052317697/1601729061', profile_link_color='1DA1F2', profile_sidebar_border_color='C0DEED', profile_sidebar_fill_color='DDEEF6', profile_text_color='333333', profile_use_background_image=True, has_extended_profile=False, default_profile=True, default_profile_image=False, following=False, follow_request_sent=False, notifications=False, translator_type='none'), geo=None, coordinates=None, place=None, contributors=None, is_quote_status=False, retweet_count=2, favorite_count=4, favorited=False, retweeted=False, lang='en') \n",
      "\n",
      ".....................................\n",
      "\n"
     ]
    }
   ],
   "source": [
    "Tweets = api.search( query , count=10 , lang='en' , exclude='retweets' , tweet_mode='extended' )\n",
    "\n",
    "\n",
    "for tweet in Tweets:\n",
    "    print(tweet,\"\\n\")\n",
    "    print(\".....................................\\n\")"
   ]
  },
  {
   "cell_type": "markdown",
   "metadata": {},
   "source": [
    "# Giving Attributes to the Tweets"
   ]
  },
  {
   "cell_type": "code",
   "execution_count": 9,
   "metadata": {},
   "outputs": [
    {
     "name": "stdout",
     "output_type": "stream",
     "text": [
      "Empty DataFrame\n",
      "Columns: [Tweets, User, User_statuses_count, user_followers, User_location, User_verified, fav_count, rt_count, tweet_date]\n",
      "Index: []\n"
     ]
    }
   ],
   "source": [
    "df = pd.DataFrame(columns = ['Tweets' , 'User' , 'User_statuses_count' , \n",
    "                            'user_followers' , 'User_location' , 'User_verified' ,\n",
    "                            'fav_count' , 'rt_count' , 'tweet_date'] )\n",
    "print(df)\n",
    "# print(df.shape)"
   ]
  },
  {
   "cell_type": "code",
   "execution_count": 10,
   "metadata": {},
   "outputs": [],
   "source": [
    "def stream(data, file_name):\n",
    "    i = 0\n",
    "    for tweet in tweepy.Cursor(api.search, q=data, count=100, lang='en').items():\n",
    "        print(i, end='\\r')\n",
    "        df.loc[i, 'Tweets'] = tweet.text\n",
    "        df.loc[i, 'User'] = tweet.user.name\n",
    "        df.loc[i, 'User_statuses_count'] = tweet.user.statuses_count\n",
    "        df.loc[i, 'user_followers'] = tweet.user.followers_count\n",
    "        df.loc[i, 'User_location'] = tweet.user.location\n",
    "        df.loc[i, 'User_verified'] = tweet.user.verified\n",
    "        df.loc[i, 'fav_count'] = tweet.favorite_count\n",
    "        df.loc[i, 'rt_count'] = tweet.retweet_count\n",
    "        df.loc[i, 'tweet_date'] = tweet.created_at\n",
    "        df.to_excel('{}.xlsx'.format(file_name))\n",
    "        i = i+1\n",
    "        if i == 1000:\n",
    "            break\n",
    "        else:\n",
    "            pass"
   ]
  },
  {
   "cell_type": "code",
   "execution_count": 11,
   "metadata": {},
   "outputs": [
    {
     "name": "stdout",
     "output_type": "stream",
     "text": [
      "531\r"
     ]
    }
   ],
   "source": [
    "stream(data=[\"MI winning IPL\"] , file_name='my_tweets')"
   ]
  },
  {
   "cell_type": "code",
   "execution_count": 12,
   "metadata": {},
   "outputs": [
    {
     "data": {
      "text/html": [
       "<div>\n",
       "<style scoped>\n",
       "    .dataframe tbody tr th:only-of-type {\n",
       "        vertical-align: middle;\n",
       "    }\n",
       "\n",
       "    .dataframe tbody tr th {\n",
       "        vertical-align: top;\n",
       "    }\n",
       "\n",
       "    .dataframe thead th {\n",
       "        text-align: right;\n",
       "    }\n",
       "</style>\n",
       "<table border=\"1\" class=\"dataframe\">\n",
       "  <thead>\n",
       "    <tr style=\"text-align: right;\">\n",
       "      <th></th>\n",
       "      <th>Tweets</th>\n",
       "      <th>User</th>\n",
       "      <th>User_statuses_count</th>\n",
       "      <th>user_followers</th>\n",
       "      <th>User_location</th>\n",
       "      <th>User_verified</th>\n",
       "      <th>fav_count</th>\n",
       "      <th>rt_count</th>\n",
       "      <th>tweet_date</th>\n",
       "    </tr>\n",
       "  </thead>\n",
       "  <tbody>\n",
       "    <tr>\n",
       "      <th>0</th>\n",
       "      <td>Who is winning today #MI or #DC?\\nmy predictio...</td>\n",
       "      <td>Manish Bhatt</td>\n",
       "      <td>83220</td>\n",
       "      <td>648</td>\n",
       "      <td>New Delhi, India</td>\n",
       "      <td>False</td>\n",
       "      <td>1</td>\n",
       "      <td>0</td>\n",
       "      <td>2020-10-31 09:19:27</td>\n",
       "    </tr>\n",
       "    <tr>\n",
       "      <th>1</th>\n",
       "      <td>100% Winning Team, Get Today Match Prediction ...</td>\n",
       "      <td>Veena</td>\n",
       "      <td>66</td>\n",
       "      <td>8</td>\n",
       "      <td>Jaipur</td>\n",
       "      <td>False</td>\n",
       "      <td>0</td>\n",
       "      <td>0</td>\n",
       "      <td>2020-10-31 09:01:38</td>\n",
       "    </tr>\n",
       "    <tr>\n",
       "      <th>2</th>\n",
       "      <td>RT @sportstigerapp: #MIvsDC | #IPL2020 | #Poll...</td>\n",
       "      <td>The sports 360</td>\n",
       "      <td>540</td>\n",
       "      <td>9</td>\n",
       "      <td></td>\n",
       "      <td>False</td>\n",
       "      <td>0</td>\n",
       "      <td>2</td>\n",
       "      <td>2020-10-31 08:15:10</td>\n",
       "    </tr>\n",
       "    <tr>\n",
       "      <th>3</th>\n",
       "      <td>IPL Breaking for tdy                      Delh...</td>\n",
       "      <td>I knw Pridiction..</td>\n",
       "      <td>5759</td>\n",
       "      <td>420</td>\n",
       "      <td>India</td>\n",
       "      <td>False</td>\n",
       "      <td>3</td>\n",
       "      <td>0</td>\n",
       "      <td>2020-10-31 08:08:28</td>\n",
       "    </tr>\n",
       "    <tr>\n",
       "      <th>4</th>\n",
       "      <td>RT @sportstigerapp: #MIvsDC | #IPL2020 | #Poll...</td>\n",
       "      <td>IPL Crickinfo</td>\n",
       "      <td>233</td>\n",
       "      <td>0</td>\n",
       "      <td></td>\n",
       "      <td>False</td>\n",
       "      <td>0</td>\n",
       "      <td>2</td>\n",
       "      <td>2020-10-31 07:32:45</td>\n",
       "    </tr>\n",
       "  </tbody>\n",
       "</table>\n",
       "</div>"
      ],
      "text/plain": [
       "                                              Tweets                User  \\\n",
       "0  Who is winning today #MI or #DC?\\nmy predictio...        Manish Bhatt   \n",
       "1  100% Winning Team, Get Today Match Prediction ...               Veena   \n",
       "2  RT @sportstigerapp: #MIvsDC | #IPL2020 | #Poll...      The sports 360   \n",
       "3  IPL Breaking for tdy                      Delh...  I knw Pridiction..   \n",
       "4  RT @sportstigerapp: #MIvsDC | #IPL2020 | #Poll...       IPL Crickinfo   \n",
       "\n",
       "  User_statuses_count user_followers     User_location User_verified  \\\n",
       "0               83220            648  New Delhi, India         False   \n",
       "1                  66              8            Jaipur         False   \n",
       "2                 540              9                           False   \n",
       "3                5759            420             India         False   \n",
       "4                 233              0                           False   \n",
       "\n",
       "  fav_count rt_count           tweet_date  \n",
       "0         1        0  2020-10-31 09:19:27  \n",
       "1         0        0  2020-10-31 09:01:38  \n",
       "2         0        2  2020-10-31 08:15:10  \n",
       "3         3        0  2020-10-31 08:08:28  \n",
       "4         0        2  2020-10-31 07:32:45  "
      ]
     },
     "execution_count": 12,
     "metadata": {},
     "output_type": "execute_result"
    }
   ],
   "source": [
    "df.head()"
   ]
  },
  {
   "cell_type": "markdown",
   "metadata": {},
   "source": [
    "# Cleaning and Identifying the Sentiments of the Tweets"
   ]
  },
  {
   "cell_type": "code",
   "execution_count": 13,
   "metadata": {},
   "outputs": [
    {
     "name": "stdout",
     "output_type": "stream",
     "text": [
      "Collecting textblob\n",
      "  Downloading textblob-0.15.3-py2.py3-none-any.whl (636 kB)\n",
      "Requirement already satisfied: nltk>=3.1 in d:\\anaconda\\lib\\site-packages (from textblob) (3.5)\n",
      "Requirement already satisfied: regex in d:\\anaconda\\lib\\site-packages (from nltk>=3.1->textblob) (2020.6.8)\n",
      "Requirement already satisfied: tqdm in d:\\anaconda\\lib\\site-packages (from nltk>=3.1->textblob) (4.47.0)\n",
      "Requirement already satisfied: joblib in d:\\anaconda\\lib\\site-packages (from nltk>=3.1->textblob) (0.16.0)\n",
      "Requirement already satisfied: click in d:\\anaconda\\lib\\site-packages (from nltk>=3.1->textblob) (7.1.2)\n",
      "Installing collected packages: textblob\n",
      "Successfully installed textblob-0.15.3\n"
     ]
    }
   ],
   "source": [
    "!pip install textblob"
   ]
  },
  {
   "cell_type": "code",
   "execution_count": 14,
   "metadata": {},
   "outputs": [],
   "source": [
    "from textblob import TextBlob"
   ]
  },
  {
   "cell_type": "code",
   "execution_count": 15,
   "metadata": {},
   "outputs": [],
   "source": [
    "import re\n",
    "def clean_tweet(tweet):\n",
    "    return ' '.join(re.sub('(@[A-Za-z0-9]+)|([^0-9A-Za-z \\t])|(\\w+:\\/\\/\\S+)', ' ', tweet).split())"
   ]
  },
  {
   "cell_type": "code",
   "execution_count": 16,
   "metadata": {},
   "outputs": [],
   "source": [
    "def analyze_sentiment(tweet):\n",
    "    analysis = TextBlob(tweet)\n",
    "    if analysis.sentiment.polarity > 0:\n",
    "        return 'Positive'\n",
    "    elif analysis.sentiment.polarity == 0:\n",
    "        return 'Neutral'\n",
    "    else:\n",
    "        return 'Negative'"
   ]
  },
  {
   "cell_type": "code",
   "execution_count": 17,
   "metadata": {},
   "outputs": [],
   "source": [
    "df['clean_tweet'] = df['Tweets'].apply(lambda x : clean_tweet(x))"
   ]
  },
  {
   "cell_type": "code",
   "execution_count": 18,
   "metadata": {},
   "outputs": [
    {
     "data": {
      "text/html": [
       "<div>\n",
       "<style scoped>\n",
       "    .dataframe tbody tr th:only-of-type {\n",
       "        vertical-align: middle;\n",
       "    }\n",
       "\n",
       "    .dataframe tbody tr th {\n",
       "        vertical-align: top;\n",
       "    }\n",
       "\n",
       "    .dataframe thead th {\n",
       "        text-align: right;\n",
       "    }\n",
       "</style>\n",
       "<table border=\"1\" class=\"dataframe\">\n",
       "  <thead>\n",
       "    <tr style=\"text-align: right;\">\n",
       "      <th></th>\n",
       "      <th>Tweets</th>\n",
       "      <th>User</th>\n",
       "      <th>User_statuses_count</th>\n",
       "      <th>user_followers</th>\n",
       "      <th>User_location</th>\n",
       "      <th>User_verified</th>\n",
       "      <th>fav_count</th>\n",
       "      <th>rt_count</th>\n",
       "      <th>tweet_date</th>\n",
       "      <th>clean_tweet</th>\n",
       "    </tr>\n",
       "  </thead>\n",
       "  <tbody>\n",
       "    <tr>\n",
       "      <th>0</th>\n",
       "      <td>Who is winning today #MI or #DC?\\nmy predictio...</td>\n",
       "      <td>Manish Bhatt</td>\n",
       "      <td>83220</td>\n",
       "      <td>648</td>\n",
       "      <td>New Delhi, India</td>\n",
       "      <td>False</td>\n",
       "      <td>1</td>\n",
       "      <td>0</td>\n",
       "      <td>2020-10-31 09:19:27</td>\n",
       "      <td>Who is winning today MI or DC my prediction go...</td>\n",
       "    </tr>\n",
       "    <tr>\n",
       "      <th>1</th>\n",
       "      <td>100% Winning Team, Get Today Match Prediction ...</td>\n",
       "      <td>Veena</td>\n",
       "      <td>66</td>\n",
       "      <td>8</td>\n",
       "      <td>Jaipur</td>\n",
       "      <td>False</td>\n",
       "      <td>0</td>\n",
       "      <td>0</td>\n",
       "      <td>2020-10-31 09:01:38</td>\n",
       "      <td>100 Winning Team Get Today Match Prediction Re...</td>\n",
       "    </tr>\n",
       "    <tr>\n",
       "      <th>2</th>\n",
       "      <td>RT @sportstigerapp: #MIvsDC | #IPL2020 | #Poll...</td>\n",
       "      <td>The sports 360</td>\n",
       "      <td>540</td>\n",
       "      <td>9</td>\n",
       "      <td></td>\n",
       "      <td>False</td>\n",
       "      <td>0</td>\n",
       "      <td>2</td>\n",
       "      <td>2020-10-31 08:15:10</td>\n",
       "      <td>RT MIvsDC IPL2020 PollOfTheDay Match 5 1 Who h...</td>\n",
       "    </tr>\n",
       "    <tr>\n",
       "      <th>3</th>\n",
       "      <td>IPL Breaking for tdy                      Delh...</td>\n",
       "      <td>I knw Pridiction..</td>\n",
       "      <td>5759</td>\n",
       "      <td>420</td>\n",
       "      <td>India</td>\n",
       "      <td>False</td>\n",
       "      <td>3</td>\n",
       "      <td>0</td>\n",
       "      <td>2020-10-31 08:08:28</td>\n",
       "      <td>IPL Breaking for tdy Delhi Capitals Winning 1s...</td>\n",
       "    </tr>\n",
       "    <tr>\n",
       "      <th>4</th>\n",
       "      <td>RT @sportstigerapp: #MIvsDC | #IPL2020 | #Poll...</td>\n",
       "      <td>IPL Crickinfo</td>\n",
       "      <td>233</td>\n",
       "      <td>0</td>\n",
       "      <td></td>\n",
       "      <td>False</td>\n",
       "      <td>0</td>\n",
       "      <td>2</td>\n",
       "      <td>2020-10-31 07:32:45</td>\n",
       "      <td>RT MIvsDC IPL2020 PollOfTheDay Match 5 1 Who h...</td>\n",
       "    </tr>\n",
       "  </tbody>\n",
       "</table>\n",
       "</div>"
      ],
      "text/plain": [
       "                                              Tweets                User  \\\n",
       "0  Who is winning today #MI or #DC?\\nmy predictio...        Manish Bhatt   \n",
       "1  100% Winning Team, Get Today Match Prediction ...               Veena   \n",
       "2  RT @sportstigerapp: #MIvsDC | #IPL2020 | #Poll...      The sports 360   \n",
       "3  IPL Breaking for tdy                      Delh...  I knw Pridiction..   \n",
       "4  RT @sportstigerapp: #MIvsDC | #IPL2020 | #Poll...       IPL Crickinfo   \n",
       "\n",
       "  User_statuses_count user_followers     User_location User_verified  \\\n",
       "0               83220            648  New Delhi, India         False   \n",
       "1                  66              8            Jaipur         False   \n",
       "2                 540              9                           False   \n",
       "3                5759            420             India         False   \n",
       "4                 233              0                           False   \n",
       "\n",
       "  fav_count rt_count           tweet_date  \\\n",
       "0         1        0  2020-10-31 09:19:27   \n",
       "1         0        0  2020-10-31 09:01:38   \n",
       "2         0        2  2020-10-31 08:15:10   \n",
       "3         3        0  2020-10-31 08:08:28   \n",
       "4         0        2  2020-10-31 07:32:45   \n",
       "\n",
       "                                         clean_tweet  \n",
       "0  Who is winning today MI or DC my prediction go...  \n",
       "1  100 Winning Team Get Today Match Prediction Re...  \n",
       "2  RT MIvsDC IPL2020 PollOfTheDay Match 5 1 Who h...  \n",
       "3  IPL Breaking for tdy Delhi Capitals Winning 1s...  \n",
       "4  RT MIvsDC IPL2020 PollOfTheDay Match 5 1 Who h...  "
      ]
     },
     "execution_count": 18,
     "metadata": {},
     "output_type": "execute_result"
    }
   ],
   "source": [
    "df.head()"
   ]
  },
  {
   "cell_type": "code",
   "execution_count": 19,
   "metadata": {},
   "outputs": [
    {
     "data": {
      "text/html": [
       "<div>\n",
       "<style scoped>\n",
       "    .dataframe tbody tr th:only-of-type {\n",
       "        vertical-align: middle;\n",
       "    }\n",
       "\n",
       "    .dataframe tbody tr th {\n",
       "        vertical-align: top;\n",
       "    }\n",
       "\n",
       "    .dataframe thead th {\n",
       "        text-align: right;\n",
       "    }\n",
       "</style>\n",
       "<table border=\"1\" class=\"dataframe\">\n",
       "  <thead>\n",
       "    <tr style=\"text-align: right;\">\n",
       "      <th></th>\n",
       "      <th>Tweets</th>\n",
       "      <th>User</th>\n",
       "      <th>User_statuses_count</th>\n",
       "      <th>user_followers</th>\n",
       "      <th>User_location</th>\n",
       "      <th>User_verified</th>\n",
       "      <th>fav_count</th>\n",
       "      <th>rt_count</th>\n",
       "      <th>tweet_date</th>\n",
       "      <th>clean_tweet</th>\n",
       "      <th>Sentiment</th>\n",
       "    </tr>\n",
       "  </thead>\n",
       "  <tbody>\n",
       "    <tr>\n",
       "      <th>0</th>\n",
       "      <td>Who is winning today #MI or #DC?\\nmy predictio...</td>\n",
       "      <td>Manish Bhatt</td>\n",
       "      <td>83220</td>\n",
       "      <td>648</td>\n",
       "      <td>New Delhi, India</td>\n",
       "      <td>False</td>\n",
       "      <td>1</td>\n",
       "      <td>0</td>\n",
       "      <td>2020-10-31 09:19:27</td>\n",
       "      <td>Who is winning today MI or DC my prediction go...</td>\n",
       "      <td>Positive</td>\n",
       "    </tr>\n",
       "    <tr>\n",
       "      <th>1</th>\n",
       "      <td>100% Winning Team, Get Today Match Prediction ...</td>\n",
       "      <td>Veena</td>\n",
       "      <td>66</td>\n",
       "      <td>8</td>\n",
       "      <td>Jaipur</td>\n",
       "      <td>False</td>\n",
       "      <td>0</td>\n",
       "      <td>0</td>\n",
       "      <td>2020-10-31 09:01:38</td>\n",
       "      <td>100 Winning Team Get Today Match Prediction Re...</td>\n",
       "      <td>Positive</td>\n",
       "    </tr>\n",
       "    <tr>\n",
       "      <th>2</th>\n",
       "      <td>RT @sportstigerapp: #MIvsDC | #IPL2020 | #Poll...</td>\n",
       "      <td>The sports 360</td>\n",
       "      <td>540</td>\n",
       "      <td>9</td>\n",
       "      <td></td>\n",
       "      <td>False</td>\n",
       "      <td>0</td>\n",
       "      <td>2</td>\n",
       "      <td>2020-10-31 08:15:10</td>\n",
       "      <td>RT MIvsDC IPL2020 PollOfTheDay Match 5 1 Who h...</td>\n",
       "      <td>Positive</td>\n",
       "    </tr>\n",
       "    <tr>\n",
       "      <th>3</th>\n",
       "      <td>IPL Breaking for tdy                      Delh...</td>\n",
       "      <td>I knw Pridiction..</td>\n",
       "      <td>5759</td>\n",
       "      <td>420</td>\n",
       "      <td>India</td>\n",
       "      <td>False</td>\n",
       "      <td>3</td>\n",
       "      <td>0</td>\n",
       "      <td>2020-10-31 08:08:28</td>\n",
       "      <td>IPL Breaking for tdy Delhi Capitals Winning 1s...</td>\n",
       "      <td>Positive</td>\n",
       "    </tr>\n",
       "    <tr>\n",
       "      <th>4</th>\n",
       "      <td>RT @sportstigerapp: #MIvsDC | #IPL2020 | #Poll...</td>\n",
       "      <td>IPL Crickinfo</td>\n",
       "      <td>233</td>\n",
       "      <td>0</td>\n",
       "      <td></td>\n",
       "      <td>False</td>\n",
       "      <td>0</td>\n",
       "      <td>2</td>\n",
       "      <td>2020-10-31 07:32:45</td>\n",
       "      <td>RT MIvsDC IPL2020 PollOfTheDay Match 5 1 Who h...</td>\n",
       "      <td>Positive</td>\n",
       "    </tr>\n",
       "  </tbody>\n",
       "</table>\n",
       "</div>"
      ],
      "text/plain": [
       "                                              Tweets                User  \\\n",
       "0  Who is winning today #MI or #DC?\\nmy predictio...        Manish Bhatt   \n",
       "1  100% Winning Team, Get Today Match Prediction ...               Veena   \n",
       "2  RT @sportstigerapp: #MIvsDC | #IPL2020 | #Poll...      The sports 360   \n",
       "3  IPL Breaking for tdy                      Delh...  I knw Pridiction..   \n",
       "4  RT @sportstigerapp: #MIvsDC | #IPL2020 | #Poll...       IPL Crickinfo   \n",
       "\n",
       "  User_statuses_count user_followers     User_location User_verified  \\\n",
       "0               83220            648  New Delhi, India         False   \n",
       "1                  66              8            Jaipur         False   \n",
       "2                 540              9                           False   \n",
       "3                5759            420             India         False   \n",
       "4                 233              0                           False   \n",
       "\n",
       "  fav_count rt_count           tweet_date  \\\n",
       "0         1        0  2020-10-31 09:19:27   \n",
       "1         0        0  2020-10-31 09:01:38   \n",
       "2         0        2  2020-10-31 08:15:10   \n",
       "3         3        0  2020-10-31 08:08:28   \n",
       "4         0        2  2020-10-31 07:32:45   \n",
       "\n",
       "                                         clean_tweet Sentiment  \n",
       "0  Who is winning today MI or DC my prediction go...  Positive  \n",
       "1  100 Winning Team Get Today Match Prediction Re...  Positive  \n",
       "2  RT MIvsDC IPL2020 PollOfTheDay Match 5 1 Who h...  Positive  \n",
       "3  IPL Breaking for tdy Delhi Capitals Winning 1s...  Positive  \n",
       "4  RT MIvsDC IPL2020 PollOfTheDay Match 5 1 Who h...  Positive  "
      ]
     },
     "execution_count": 19,
     "metadata": {},
     "output_type": "execute_result"
    }
   ],
   "source": [
    "df['Sentiment'] = df['clean_tweet'].apply(lambda x : analyze_sentiment(x) )\n",
    "df.head()"
   ]
  },
  {
   "cell_type": "code",
   "execution_count": 20,
   "metadata": {},
   "outputs": [
    {
     "name": "stdout",
     "output_type": "stream",
     "text": [
      "Original tweet:\n",
      " 100% Winning Team, Get Today Match Prediction Report By Us #DuniyaBoliLagayegi #KiaraAdvani #MIvsDC #DCvsMI… https://t.co/LNFs1mASHZ\n",
      "\n",
      "Clean tweet:\n",
      " 100 Winning Team Get Today Match Prediction Report By Us DuniyaBoliLagayegi KiaraAdvani MIvsDC DCvsMI\n",
      "\n",
      "Sentiment of the tweet:\n",
      " Positive\n"
     ]
    }
   ],
   "source": [
    "n = 1\n",
    "print(\"Original tweet:\\n\",df['Tweets'][n])\n",
    "print()\n",
    "print(\"Clean tweet:\\n\",df['clean_tweet'][n])\n",
    "print()\n",
    "print(\"Sentiment of the tweet:\\n\",df['Sentiment'][n])"
   ]
  },
  {
   "cell_type": "code",
   "execution_count": 32,
   "metadata": {},
   "outputs": [
    {
     "name": "stdout",
     "output_type": "stream",
     "text": [
      "Original tweet:\n",
      " RT @Shebas_10dulkar: In 2020 IPL\n",
      "\n",
      "MI won 5 Consecutive Matches\n",
      "KXIP Broken that winning Streak\n",
      "\n",
      "KXIP won 5 Consecutive Matches\n",
      "RR Broken th…\n",
      "\n",
      "Clean tweet:\n",
      " RT 10dulkar In 2020 IPL MI won 5 Consecutive Matches KXIP Broken that winning Streak KXIP won 5 Consecutive Matches RR Broken th\n",
      "\n",
      "Sentiment of the tweet:\n",
      " Negative\n"
     ]
    }
   ],
   "source": [
    "n = 45\n",
    "print(\"Original tweet:\\n\",df['Tweets'][n])\n",
    "print()\n",
    "print(\"Clean tweet:\\n\",df['clean_tweet'][n])\n",
    "print()\n",
    "print(\"Sentiment of the tweet:\\n\",df['Sentiment'][n])"
   ]
  },
  {
   "cell_type": "code",
   "execution_count": 22,
   "metadata": {},
   "outputs": [
    {
     "name": "stdout",
     "output_type": "stream",
     "text": [
      "Original tweet:\n",
      " @unacademy #UnacademyAskTheExperts  This IPL Table has so many possibilities. It is just possible that 5 teams (MI,… https://t.co/gDCjmEYe1w\n",
      "\n",
      "Clean tweet:\n",
      " UnacademyAskTheExperts This IPL Table has so many possibilities It is just possible that 5 teams MI\n",
      "\n",
      "Sentiment of the tweet:\n",
      " Positive\n"
     ]
    }
   ],
   "source": [
    "n = 203\n",
    "print(\"Original tweet:\\n\",df['Tweets'][n])\n",
    "print()\n",
    "print(\"Clean tweet:\\n\",df['clean_tweet'][n])\n",
    "print()\n",
    "print(\"Sentiment of the tweet:\\n\",df['Sentiment'][n])"
   ]
  },
  {
   "cell_type": "code",
   "execution_count": 23,
   "metadata": {},
   "outputs": [
    {
     "data": {
      "text/plain": [
       "442"
      ]
     },
     "execution_count": 23,
     "metadata": {},
     "output_type": "execute_result"
    }
   ],
   "source": [
    "df[df.Sentiment == 'Positive'].shape[0]"
   ]
  },
  {
   "cell_type": "code",
   "execution_count": 24,
   "metadata": {},
   "outputs": [
    {
     "data": {
      "text/plain": [
       "20"
      ]
     },
     "execution_count": 24,
     "metadata": {},
     "output_type": "execute_result"
    }
   ],
   "source": [
    "df[df.Sentiment == 'Neutral'].shape[0]"
   ]
  },
  {
   "cell_type": "code",
   "execution_count": 25,
   "metadata": {},
   "outputs": [
    {
     "data": {
      "text/plain": [
       "70"
      ]
     },
     "execution_count": 25,
     "metadata": {},
     "output_type": "execute_result"
    }
   ],
   "source": [
    "df[df.Sentiment == 'Negative'].shape[0]"
   ]
  }
 ],
 "metadata": {
  "kernelspec": {
   "display_name": "Python 3",
   "language": "python",
   "name": "python3"
  },
  "language_info": {
   "codemirror_mode": {
    "name": "ipython",
    "version": 3
   },
   "file_extension": ".py",
   "mimetype": "text/x-python",
   "name": "python",
   "nbconvert_exporter": "python",
   "pygments_lexer": "ipython3",
   "version": "3.7.6"
  }
 },
 "nbformat": 4,
 "nbformat_minor": 4
}
